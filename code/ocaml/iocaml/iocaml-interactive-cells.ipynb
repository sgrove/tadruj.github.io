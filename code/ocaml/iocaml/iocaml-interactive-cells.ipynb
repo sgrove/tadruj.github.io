{
 "metadata": {
  "language": "ocaml",
  "name": ""
 },
 "nbformat": 3,
 "nbformat_minor": 0,
 "worksheets": [
  {
   "cells": [
    {
     "cell_type": "heading",
     "level": 1,
     "metadata": {},
     "source": [
      "Updating cells"
     ]
    },
    {
     "cell_type": "markdown",
     "metadata": {},
     "source": [
      "This requires IOcaml > 0.3.1.\n",
      "\n",
      "There are a couple of special API calls which all you to manipulate a cells output area a bit more finely.\n",
      "\n",
      "```ocaml\n",
      "val cell_context : unit -> cell_context\n",
      "```\n",
      "\n",
      "This returns a handle which refers to the current cells (ie the one in which this call is made) output area.\n",
      "\n",
      "```ocaml\n",
      "val send_clear : unit -> unit\n",
      "```\n",
      "\n",
      "Clears the output area.\n",
      "\n",
      "Further to this the standard calls like send_mime,display etc now take an optional argument called context which can direct output to the appropriate cell."
     ]
    },
    {
     "cell_type": "code",
     "collapsed": false,
     "input": [
      "let context = Iocaml.cell_context()"
     ],
     "language": "python",
     "metadata": {},
     "outputs": [
      {
       "output_type": "stream",
       "stream": "stdout",
       "text": [
        "val context : Iocaml.cell_context = <abstr>\n"
       ]
      },
      {
       "html": [
        "<b>Hello from over here</b>"
       ],
       "metadata": {},
       "output_type": "display_data"
      }
     ],
     "prompt_number": 1
    },
    {
     "cell_type": "markdown",
     "metadata": {},
     "source": [
      "context refers to the area just above here.\n",
      "\n",
      "We can send some data to it."
     ]
    },
    {
     "cell_type": "code",
     "collapsed": false,
     "input": [
      "Iocaml.display ~context \"text/html\" \"<b>Hello from over here</b>\""
     ],
     "language": "python",
     "metadata": {},
     "outputs": [
      {
       "output_type": "stream",
       "stream": "stdout",
       "text": [
        "- : unit = ()\n"
       ]
      }
     ],
     "prompt_number": 2
    },
    {
     "cell_type": "markdown",
     "metadata": {},
     "source": [
      "It's possible to do some interactive stuff as well."
     ]
    },
    {
     "cell_type": "code",
     "collapsed": false,
     "input": [
      "#require \"unix\""
     ],
     "language": "python",
     "metadata": {},
     "outputs": [
      {
       "output_type": "stream",
       "stream": "stdout",
       "text": []
      }
     ],
     "prompt_number": 3
    },
    {
     "cell_type": "code",
     "collapsed": false,
     "input": [
      "let context = Iocaml.cell_context()\n",
      "let _ = Thread.create \n",
      "    (fun () ->\n",
      "        for i=0 to 10 do \n",
      "            Iocaml.send_clear ~context ();\n",
      "            Iocaml.display ~context \"text/html\" \n",
      "                (Printf.sprintf \"<b>I can count: %i</b>\" i);\n",
      "            Unix.sleep 1\n",
      "        done\n",
      "    ) ()"
     ],
     "language": "python",
     "metadata": {},
     "outputs": [
      {
       "html": [
        "<b>I can count: 10</b>"
       ],
       "metadata": {},
       "output_type": "display_data"
      },
      {
       "html": [
        "<i>the mime channel should still work</i>"
       ],
       "metadata": {},
       "output_type": "display_data"
      }
     ],
     "prompt_number": 6
    },
    {
     "cell_type": "markdown",
     "metadata": {},
     "source": [
      "Note that stdout, stderr and so on are not controlled by the mechanism and will still be directed to the last executed cell.\n",
      "\n",
      "We could emulate a printf like call with something like:\n",
      "\n",
      "```ocaml\n",
      "let cell_printf fmt ... = Iocaml.display \"text/raw\" (sprintf fmt ...)\n",
      "```\n",
      "\n",
      "_Not sure if that's possible in ocaml_\n",
      "\n",
      "The mime channel stuff should also work ok.  However, if you are going to use mime from multiple threads you are going to have problems..."
     ]
    },
    {
     "cell_type": "code",
     "collapsed": false,
     "input": [
      "Printf.fprintf Iocaml.mime \"<i>the mime channel should still work</i>\";\n",
      "Iocaml.send_mime ~context \"text/html\""
     ],
     "language": "python",
     "metadata": {},
     "outputs": [
      {
       "output_type": "stream",
       "stream": "stdout",
       "text": [
        "- : unit = ()\n"
       ]
      }
     ],
     "prompt_number": 8
    },
    {
     "cell_type": "code",
     "collapsed": false,
     "input": [
      "Printf.fprintf Iocaml.mime \"<i>and again without a context</i>\";\n",
      "Iocaml.send_mime \"text/html\""
     ],
     "language": "python",
     "metadata": {},
     "outputs": [
      {
       "html": [
        "<i>and again without a context</i>"
       ],
       "metadata": {},
       "output_type": "display_data"
      },
      {
       "output_type": "stream",
       "stream": "stdout",
       "text": [
        "- : unit = ()\n"
       ]
      }
     ],
     "prompt_number": 10
    },
    {
     "cell_type": "code",
     "collapsed": false,
     "input": [],
     "language": "python",
     "metadata": {},
     "outputs": []
    }
   ],
   "metadata": {}
  }
 ]
}