{
 "metadata": {
  "language": "ocaml",
  "name": ""
 },
 "nbformat": 3,
 "nbformat_minor": 0,
 "worksheets": [
  {
   "cells": [
    {
     "cell_type": "code",
     "collapsed": false,
     "input": [
      "#require \"cairo\""
     ],
     "language": "python",
     "metadata": {},
     "outputs": [
      {
       "output_type": "stream",
       "stream": "stdout",
       "text": []
      }
     ],
     "prompt_number": 1
    },
    {
     "cell_type": "markdown",
     "metadata": {},
     "source": [
      "Rendering to a surface"
     ]
    },
    {
     "cell_type": "code",
     "collapsed": false,
     "input": [
      "let width  = 400\n",
      "let height = 400\n",
      "\n",
      "let image() = \n",
      "  (* Setup Cairo *)\n",
      "  let surface = Cairo.image_surface_create Cairo.FORMAT_ARGB32 ~width ~height in\n",
      "  let ctx = Cairo.create surface in\n",
      "\n",
      "  (* Set thickness of brush *)\n",
      "  Cairo.set_line_width ctx 15. ;\n",
      "\n",
      "  (* Draw out the triangle using absolute coordinates *)\n",
      "  Cairo.move_to     ctx   200.  100. ;\n",
      "  Cairo.line_to     ctx   300.  300. ;\n",
      "  Cairo.rel_line_to ctx (-200.)   0. ;\n",
      "  Cairo.close_path  ctx ;\n",
      "\n",
      "  (* Apply the ink *)\n",
      "  Cairo.stroke ctx ;\n",
      "\n",
      "  (* Output a PNG file *)\n",
      "  Cairo_png.surface_write_to_channel surface Iocaml.mime"
     ],
     "language": "python",
     "metadata": {},
     "outputs": [
      {
       "output_type": "stream",
       "stream": "stdout",
       "text": [
        "val width : int = 400\n",
        "val height : int = 400\n",
        "val image : unit -> unit = <fun>\n"
       ]
      }
     ],
     "prompt_number": 2
    },
    {
     "cell_type": "code",
     "collapsed": false,
     "input": [
      "image();\n",
      "Iocaml.send_mime ~base64:true \"image/png\""
     ],
     "language": "python",
     "metadata": {},
     "outputs": [
      {
       "metadata": {},
       "output_type": "display_data",
       "png": "[encoded data removed]"
      },
      {
       "output_type": "stream",
       "stream": "stdout",
       "text": [
        "- : unit = ()\n"
       ]
      }
     ],
     "prompt_number": 3
    },
    {
     "cell_type": "markdown",
     "metadata": {},
     "source": [
      "Rendering to SVG"
     ]
    },
    {
     "cell_type": "code",
     "collapsed": false,
     "input": [
      "let svg() = \n",
      "  (* Setup Cairo *)\n",
      "  let surface = Cairo_svg.surface_create_for_channel Iocaml.mime \n",
      "      ~width_in_points:(float width) ~height_in_points:(float height) in\n",
      "  let ctx = Cairo.create surface in\n",
      "\n",
      "  (* Set thickness of brush *)\n",
      "  Cairo.set_line_width ctx 15. ;\n",
      "\n",
      "  (* Draw out the triangle using absolute coordinates *)\n",
      "  Cairo.move_to     ctx   200.  100. ;\n",
      "  Cairo.line_to     ctx   300.  300. ;\n",
      "  Cairo.rel_line_to ctx (-200.)   0. ;\n",
      "  Cairo.close_path  ctx ;\n",
      "\n",
      "  (* Apply the ink *)\n",
      "  Cairo.stroke ctx ;\n",
      "\n",
      "  (* Output a SVG file *)\n",
      "  Cairo.surface_finish surface"
     ],
     "language": "python",
     "metadata": {},
     "outputs": [
      {
       "output_type": "stream",
       "stream": "stdout",
       "text": [
        "val svg : unit -> unit = <fun>\n"
       ]
      }
     ],
     "prompt_number": 4
    },
    {
     "cell_type": "code",
     "collapsed": false,
     "input": [
      "svg(); Iocaml.send_mime \"image/svg+xml\";\n",
      "svg(); Iocaml.send_mime \"image/svg+xml\""
     ],
     "language": "python",
     "metadata": {},
     "outputs": [
      {
       "metadata": {},
       "output_type": "display_data",
       "svg": [
        "<?xml version=\"1.0\" encoding=\"UTF-8\"?>\n",
        "<svg xmlns=\"http://www.w3.org/2000/svg\" xmlns:xlink=\"http://www.w3.org/1999/xlink\" width=\"400pt\" height=\"400pt\" viewBox=\"0 0 400 400\" version=\"1.1\">\n",
        "<g id=\"surface2\">\n",
        "<path style=\"fill:none;stroke-width:15;stroke-linecap:butt;stroke-linejoin:miter;stroke:rgb(0%,0%,0%);stroke-opacity:1;stroke-miterlimit:10;\" d=\"M 200 100 L 300 300 L 100 300 Z \"/>\n",
        "</g>\n",
        "</svg>\n"
       ]
      },
      {
       "metadata": {},
       "output_type": "display_data",
       "svg": [
        "<?xml version=\"1.0\" encoding=\"UTF-8\"?>\n",
        "<svg xmlns=\"http://www.w3.org/2000/svg\" xmlns:xlink=\"http://www.w3.org/1999/xlink\" width=\"400pt\" height=\"400pt\" viewBox=\"0 0 400 400\" version=\"1.1\">\n",
        "<g id=\"surface6\">\n",
        "<path style=\"fill:none;stroke-width:15;stroke-linecap:butt;stroke-linejoin:miter;stroke:rgb(0%,0%,0%);stroke-opacity:1;stroke-miterlimit:10;\" d=\"M 200 100 L 300 300 L 100 300 Z \"/>\n",
        "</g>\n",
        "</svg>\n"
       ]
      },
      {
       "output_type": "stream",
       "stream": "stdout",
       "text": [
        "- : unit = ()\n"
       ]
      }
     ],
     "prompt_number": 5
    }
   ],
   "metadata": {}
  }
 ]
}