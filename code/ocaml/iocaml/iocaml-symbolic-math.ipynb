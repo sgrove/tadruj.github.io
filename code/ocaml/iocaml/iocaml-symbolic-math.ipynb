{
 "metadata": {
  "language": "ocaml",
  "name": ""
 },
 "nbformat": 3,
 "nbformat_minor": 0,
 "worksheets": [
  {
   "cells": [
    {
     "cell_type": "markdown",
     "metadata": {},
     "source": [
      "Define a simple type representing expressions"
     ]
    },
    {
     "cell_type": "code",
     "collapsed": false,
     "input": [
      "type expr =\n",
      "| Const of int\n",
      "| Var of string\n",
      "| Add of expr * expr\n",
      "| Sub of expr * expr\n",
      "| Mul of expr * expr\n",
      "| Div of expr * expr\n",
      "| Pow of expr * expr"
     ],
     "language": "python",
     "metadata": {},
     "outputs": [
      {
       "output_type": "stream",
       "stream": "stdout",
       "text": [
        "type expr =\n",
        "    Const of int\n",
        "  | Var of string\n",
        "  | Add of expr * expr\n",
        "  | Sub of expr * expr\n",
        "  | Mul of expr * expr\n",
        "  | Div of expr * expr\n",
        "  | Pow of expr * expr\n"
       ]
      }
     ],
     "prompt_number": 11
    },
    {
     "cell_type": "markdown",
     "metadata": {},
     "source": [
      "An api for writing expressions"
     ]
    },
    {
     "cell_type": "code",
     "collapsed": false,
     "input": [
      "let c x = Const x\n",
      "let v x = Var x\n",
      "let (+) a b = Add(a,b)\n",
      "let (-) a b = Sub(a,b)\n",
      "let (/) a b = Div(a,b)\n",
      "let ( * ) a b = Mul(a,b)\n",
      "let (^) a b = Pow(a,b)"
     ],
     "language": "python",
     "metadata": {},
     "outputs": [
      {
       "output_type": "stream",
       "stream": "stdout",
       "text": [
        "val c : int -> expr = <fun>\n",
        "val v : string -> expr = <fun>\n",
        "val ( + ) : expr -> expr -> expr = <fun>\n",
        "val ( - ) : expr -> expr -> expr = <fun>\n",
        "val ( / ) : expr -> expr -> expr = <fun>\n",
        "val ( * ) : expr -> expr -> expr = <fun>\n",
        "val ( ^ ) : expr -> expr -> expr = <fun>\n"
       ]
      }
     ],
     "prompt_number": 12
    },
    {
     "cell_type": "markdown",
     "metadata": {},
     "source": [
      "Basic pretty printing function."
     ]
    },
    {
     "cell_type": "code",
     "collapsed": false,
     "input": [
      "let rec print x = \n",
      "    let open Pervasives in\n",
      "    match x with\n",
      "    | Const i -> string_of_int i\n",
      "    | Var x -> x\n",
      "    | Add(a,b) -> \"(\" ^ print a ^ \"+\" ^ print b ^ \")\"\n",
      "    | Sub(a,b) -> \"(\" ^ print a ^ \"-\" ^ print b ^ \")\"\n",
      "    | Mul(a,b) -> print a ^ \" \" ^ print b\n",
      "    | Div(a,b) -> print a ^ \"/\" ^ print b\n",
      "    | Pow(a,b) -> print a ^ \" ^{\" ^ print b ^ \"}\";;\n",
      "let pretty_print fmt x = \n",
      "    let open Pervasives in\n",
      "    Iocaml.display \"text/html\" (\"$$\" ^ print x ^ \"$$\");\n",
      "    Format.fprintf fmt \"<expr>\";;\n",
      "#install_printer pretty_print;;"
     ],
     "language": "python",
     "metadata": {},
     "outputs": [
      {
       "output_type": "stream",
       "stream": "stdout",
       "text": [
        "val print : expr -> string = <fun>\n",
        "val pretty_print : Format.formatter -> expr -> unit = <fun>\n"
       ]
      }
     ],
     "prompt_number": 27
    },
    {
     "cell_type": "markdown",
     "metadata": {},
     "source": [
      "Some examples"
     ]
    },
    {
     "cell_type": "code",
     "collapsed": false,
     "input": [
      "let _ = v \"a\" + v \"b\"\n",
      "let _ = c 10 * v \"a\"\n",
      "let _ = v \"a\" ^ (v \"b\" / c 2)"
     ],
     "language": "python",
     "metadata": {},
     "outputs": [
      {
       "html": [
        "$$(a+b)$$"
       ],
       "metadata": {},
       "output_type": "display_data"
      },
      {
       "html": [
        "$$10 a$$"
       ],
       "metadata": {},
       "output_type": "display_data"
      },
      {
       "html": [
        "$$a ^{b/2}$$"
       ],
       "metadata": {},
       "output_type": "display_data"
      },
      {
       "output_type": "stream",
       "stream": "stdout",
       "text": [
        "- : expr = <expr>\n",
        "- : expr = <expr>\n",
        "- : expr = <expr>\n"
       ]
      }
     ],
     "prompt_number": 31
    },
    {
     "cell_type": "code",
     "collapsed": false,
     "input": [
      "let x,y,z = v \"x\", v \"y\", v \"z\" in\n",
      "(((c 1 + x) * (c 7 - y)) ^ (z + c 2)) / (c 8)"
     ],
     "language": "python",
     "metadata": {},
     "outputs": [
      {
       "html": [
        "$$(1+x) (7-y) ^{(z+2)}/8$$"
       ],
       "metadata": {},
       "output_type": "display_data"
      },
      {
       "output_type": "stream",
       "stream": "stdout",
       "text": [
        "- : expr = <expr>\n"
       ]
      }
     ],
     "prompt_number": 29
    },
    {
     "cell_type": "code",
     "collapsed": false,
     "input": [],
     "language": "python",
     "metadata": {},
     "outputs": []
    }
   ],
   "metadata": {}
  }
 ]
}