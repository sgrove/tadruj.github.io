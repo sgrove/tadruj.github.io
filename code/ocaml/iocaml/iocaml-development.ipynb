{
 "metadata": {
  "language": "ocaml",
  "name": ""
 },
 "nbformat": 3,
 "nbformat_minor": 0,
 "worksheets": [
  {
   "cells": [
    {
     "cell_type": "heading",
     "level": 1,
     "metadata": {},
     "source": [
      "Development is handled though [github](https://github.com/andrewray/iocaml/issues?state=open) issues."
     ]
    },
    {
     "cell_type": "markdown",
     "metadata": {},
     "source": [
      "This notebook is no longer needed but still referenced through google so I'll keep it around for a bit."
     ]
    }
   ],
   "metadata": {}
  }
 ]
}