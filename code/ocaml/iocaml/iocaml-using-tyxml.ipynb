{
  "worksheets": [
    {
      "cells": [
        {
          "source": [
            "Using TyXML"
          ],
          "metadata": {},
          "cell_type": "heading",
          "level": 1
        },
        {
          "source": [
            "Load tyxml and the tyxml syntax extension."
          ],
          "metadata": {},
          "cell_type": "markdown"
        },
        {
          "outputs": [
            {
              "text": [
                "\tCamlp4 Parsing version 4.02.0+rc1\n",
                "\n"
              ],
              "output_type": "stream",
              "stream": "stdout"
            },
            {
              "text": [
                "/home/andyman/.opam/4.02.0+rc1/lib/ocaml/str.cma: loaded\n"
              ],
              "output_type": "stream",
              "stream": "stderr"
            },
            {
              "text": [
                "/home/andyman/.opam/4.02.0+rc1/lib/tyxml: added to search path\n",
                "/home/andyman/.opam/4.02.0+rc1/lib/tyxml/tyxml.cma: loaded\n"
              ],
              "output_type": "stream",
              "stream": "stderr"
            },
            {
              "text": [
                "/home/andyman/.opam/4.02.0+rc1/lib/iocaml-kernel: added to search path\n"
              ],
              "output_type": "stream",
              "stream": "stderr"
            }
          ],
          "input": [
            "#require \"tyxml,iocaml-kernel.notebook\""
          ],
          "metadata": {},
          "cell_type": "code",
          "prompt_number": 1,
          "language": "python",
          "collapsed": false
        },
        {
          "outputs": [
            {
              "text": [
                "/home/andyman/.opam/4.02.0+rc1/lib/tyxml/pa_tyxml.cma: loaded\n"
              ],
              "output_type": "stream",
              "stream": "stderr"
            }
          ],
          "input": [
            "#require \"tyxml.syntax\""
          ],
          "metadata": {},
          "cell_type": "code",
          "prompt_number": 2,
          "language": "python",
          "collapsed": false
        },
        {
          "source": [
            "HTML"
          ],
          "metadata": {},
          "cell_type": "heading",
          "level": 2
        },
        {
          "source": [
            "Define a function which takes a list of expanded tyxml html quotations and displays them."
          ],
          "metadata": {},
          "cell_type": "markdown"
        },
        {
          "outputs": [
            {
              "html": [
                "<pre style=\"color:slategray;max-height:100px;overflow:hidden\" \n",
                "onclick=\"\n",
                "if (this.style.maxHeight === 'none') \n",
                "    this.style.maxHeight = '100px';\n",
                "else\n",
                "    this.style.maxHeight = 'none'; \n",
                "\">val html : 'a Html5.M.elt list -&gt; unit = &lt;fun&gt;\n",
                "</pre>"
              ],
              "output_type": "pyout",
              "prompt_number": 3,
              "metadata": {}
            },
            {
              "html": [
                "<pre style=\"color:slategray;max-height:100px;overflow:hidden\" \n",
                "onclick=\"\n",
                "if (this.style.maxHeight === 'none') \n",
                "    this.style.maxHeight = '100px';\n",
                "else\n",
                "    this.style.maxHeight = 'none'; \n",
                "\">module Html5 = Html5.M\n",
                "</pre>"
              ],
              "output_type": "pyout",
              "prompt_number": 3,
              "metadata": {}
            }
          ],
          "input": [
            "(* setup pa_tyxml so we can write html quotations *)\n",
            "let html q = \n",
            "    Html5.P.print_list ~output:(output_string Iocaml.mime) q;\n",
            "    Iocaml.send_mime \"text/html\"\n",
            "\n",
            "module Html5 = Html5.M"
          ],
          "metadata": {},
          "cell_type": "code",
          "prompt_number": 3,
          "language": "python",
          "collapsed": false
        },
        {
          "source": [
            "Simple HTML example."
          ],
          "metadata": {},
          "cell_type": "markdown"
        },
        {
          "outputs": [
            {
              "html": [
                "<h1> hello </h1><p> world </p>"
              ],
              "output_type": "display_data",
              "metadata": {}
            },
            {
              "html": [
                "<pre style=\"color:slategray;max-height:100px;overflow:hidden\" \n",
                "onclick=\"\n",
                "if (this.style.maxHeight === 'none') \n",
                "    this.style.maxHeight = '100px';\n",
                "else\n",
                "    this.style.maxHeight = 'none'; \n",
                "\">- : unit = ()\n",
                "</pre>"
              ],
              "output_type": "pyout",
              "prompt_number": 4,
              "metadata": {}
            }
          ],
          "input": [
            "html [\n",
            "    << <h1> hello </h1> >>;\n",
            "    << <p> world </p> >>\n",
            "]"
          ],
          "metadata": {},
          "cell_type": "code",
          "prompt_number": 4,
          "language": "python",
          "collapsed": false
        },
        {
          "source": [
            "Javascript"
          ],
          "metadata": {},
          "cell_type": "heading",
          "level": 2
        },
        {
          "source": [
            "Javascript example.  Load Chart.js and display a line chart with randomly generated data.  Note that the javascript is embedded into the notebook and will be run when it is (re)loaded.  If this causes an exception during loading the notebook will fail to start the kernel."
          ],
          "metadata": {},
          "cell_type": "markdown"
        },
        {
          "outputs": [
            {
              "html": [
                "<pre style=\"color:slategray;max-height:100px;overflow:hidden\" \n",
                "onclick=\"\n",
                "if (this.style.maxHeight === 'none') \n",
                "    this.style.maxHeight = '100px';\n",
                "else\n",
                "    this.style.maxHeight = 'none'; \n",
                "\">val random_data : unit -&gt; string = &lt;fun&gt;\n",
                "</pre>"
              ],
              "output_type": "pyout",
              "prompt_number": 5,
              "metadata": {}
            },
            {
              "html": [
                "<pre style=\"color:slategray;max-height:100px;overflow:hidden\" \n",
                "onclick=\"\n",
                "if (this.style.maxHeight === 'none') \n",
                "    this.style.maxHeight = '100px';\n",
                "else\n",
                "    this.style.maxHeight = 'none'; \n",
                "\">val run : unit -&gt; unit = &lt;fun&gt;\n",
                "</pre>"
              ],
              "output_type": "pyout",
              "prompt_number": 5,
              "metadata": {}
            }
          ],
          "input": [
            "let random_data () = \n",
            "    let a = Array.init 7 (fun _ -> Random.int 100) in\n",
            "    List.fold_left (fun s x ->\n",
            "        let x = string_of_int x in\n",
            "        if s=\"\" then x else s ^ \",\" ^ x) \"\" (Array.to_list a)\n",
            ";;\n",
            "    \n",
            "let run () = html [\n",
            "    << <canvas id=\"myChart\" width=\"400\" height=\"400\"/> >>;\n",
            "    << <script> \n",
            "    \n",
            "    $$.getScript(\"https://rawgit.com/nnnick/Chart.js/master/Chart.js\", function () {\n",
            "        var ctx = document.getElementById(\"myChart\").getContext(\"2d\");\n",
            "        var data = {\n",
            "            labels : [\"January\",\"February\",\"March\",\"April\",\"May\",\"June\",\"July\"],\n",
            "            datasets : [\n",
            "                {\n",
            "                    fillColor : \"rgba(220,220,220,0.5)\",\n",
            "                    strokeColor : \"rgba(220,220,220,1)\",\n",
            "                    pointColor : \"rgba(220,220,220,1)\",\n",
            "                    pointStrokeColor : \"#fff\",\n",
            "                    data : [$str:random_data()$]\n",
            "                },\n",
            "                {\n",
            "                    fillColor : \"rgba(151,187,205,0.5)\",\n",
            "                    strokeColor : \"rgba(151,187,205,1)\",\n",
            "                    pointColor : \"rgba(151,187,205,1)\",\n",
            "                    pointStrokeColor : \"#fff\",\n",
            "                    data : [$str:random_data()$]\n",
            "                }\n",
            "            ]\n",
            "        }\n",
            "        new Chart(ctx).Line(data);\n",
            "    })\n",
            "    \n",
            "    </script> >>;   \n",
            "]"
          ],
          "metadata": {},
          "cell_type": "code",
          "prompt_number": 5,
          "language": "python",
          "collapsed": false
        },
        {
          "outputs": [
            {
              "html": [
                "<canvas id=\"myChart\" width=\"400\" height=\"400\"></canvas><script> \n",
                "    \n",
                "    $.getScript(\"https://rawgit.com/nnnick/Chart.js/master/Chart.js\", function () {\n",
                "        var ctx = document.getElementById(\"myChart\").getContext(\"2d\");\n",
                "        var data = {\n",
                "            labels : [\"January\",\"February\",\"March\",\"April\",\"May\",\"June\",\"July\"],\n",
                "            datasets : [\n",
                "                {\n",
                "                    fillColor : \"rgba(220,220,220,0.5)\",\n",
                "                    strokeColor : \"rgba(220,220,220,1)\",\n",
                "                    pointColor : \"rgba(220,220,220,1)\",\n",
                "                    pointStrokeColor : \"#fff\",\n",
                "                    data : [20,21,70,17,85,49,78]\n",
                "                },\n",
                "                {\n",
                "                    fillColor : \"rgba(151,187,205,0.5)\",\n",
                "                    strokeColor : \"rgba(151,187,205,1)\",\n",
                "                    pointColor : \"rgba(151,187,205,1)\",\n",
                "                    pointStrokeColor : \"#fff\",\n",
                "                    data : [44,85,82,41,39,0,4]\n",
                "                }\n",
                "            ]\n",
                "        }\n",
                "        new Chart(ctx).Line(data);\n",
                "    })\n",
                "    \n",
                "    </script>"
              ],
              "output_type": "display_data",
              "metadata": {}
            },
            {
              "html": [
                "<pre style=\"color:slategray;max-height:100px;overflow:hidden\" \n",
                "onclick=\"\n",
                "if (this.style.maxHeight === 'none') \n",
                "    this.style.maxHeight = '100px';\n",
                "else\n",
                "    this.style.maxHeight = 'none'; \n",
                "\">- : unit = ()\n",
                "</pre>"
              ],
              "output_type": "pyout",
              "prompt_number": 6,
              "metadata": {}
            }
          ],
          "input": [
            "run ()"
          ],
          "metadata": {},
          "cell_type": "code",
          "prompt_number": 6,
          "language": "python",
          "collapsed": false
        },
        {
          "source": [
            "SVG"
          ],
          "metadata": {},
          "cell_type": "heading",
          "level": 2
        },
        {
          "source": [
            "Here's a programatic example of SVG generation (because I cannot get the syntax extension to work)."
          ],
          "metadata": {},
          "cell_type": "markdown"
        },
        {
          "outputs": [
            {
              "html": [
                "<pre style=\"color:slategray;max-height:100px;overflow:hidden\" \n",
                "onclick=\"\n",
                "if (this.style.maxHeight === 'none') \n",
                "    this.style.maxHeight = '100px';\n",
                "else\n",
                "    this.style.maxHeight = 'none'; \n",
                "\">val svg : 'a Svg.M.elt list -&gt; unit = &lt;fun&gt;\n",
                "</pre>"
              ],
              "output_type": "pyout",
              "prompt_number": 7,
              "metadata": {}
            }
          ],
          "input": [
            "let svg q = \n",
            "    Svg.P.print_list ~output:(output_string Iocaml.mime) q;\n",
            "    Iocaml.send_mime \"text/html\""
          ],
          "metadata": {},
          "cell_type": "code",
          "prompt_number": 7,
          "language": "python",
          "collapsed": false
        },
        {
          "outputs": [
            {
              "html": [
                "<pre style=\"color:slategray;max-height:100px;overflow:hidden\" \n",
                "onclick=\"\n",
                "if (this.style.maxHeight === 'none') \n",
                "    this.style.maxHeight = '100px';\n",
                "else\n",
                "    this.style.maxHeight = 'none'; \n",
                "\">val d : [&gt; Svg_types.svg ] Svg.M.elt = &lt;abstr&gt;\n",
                "</pre>"
              ],
              "output_type": "pyout",
              "prompt_number": 8,
              "metadata": {}
            }
          ],
          "input": [
            "let d = (Svg.M.(\n",
            "    svg ~a:[a_width (100.,None); a_height (100.,None)]\n",
            "        [circle ~a:[a_r (40.,None); a_cx (50.,None); a_cy (50.,None) ] \n",
            "             []\n",
            "        ]))"
          ],
          "metadata": {},
          "cell_type": "code",
          "prompt_number": 8,
          "language": "python",
          "collapsed": false
        },
        {
          "outputs": [
            {
              "text": [
                "<svg width=\"100\" height=\"100\"><circle r=\"40\" cx=\"50\" cy=\"50\" /></svg>"
              ],
              "output_type": "stream",
              "stream": "stdout"
            },
            {
              "html": [
                "<pre style=\"color:slategray;max-height:100px;overflow:hidden\" \n",
                "onclick=\"\n",
                "if (this.style.maxHeight === 'none') \n",
                "    this.style.maxHeight = '100px';\n",
                "else\n",
                "    this.style.maxHeight = 'none'; \n",
                "\">- : unit = ()\n",
                "</pre>"
              ],
              "output_type": "pyout",
              "prompt_number": 9,
              "metadata": {}
            }
          ],
          "input": [
            "Svg.P.print_list ~output:print_string [d]"
          ],
          "metadata": {},
          "cell_type": "code",
          "prompt_number": 9,
          "language": "python",
          "collapsed": false
        },
        {
          "outputs": [
            {
              "html": [
                "<svg width=\"100\" height=\"100\"><circle r=\"40\" cx=\"50\" cy=\"50\" /></svg>"
              ],
              "output_type": "display_data",
              "metadata": {}
            },
            {
              "html": [
                "<pre style=\"color:slategray;max-height:100px;overflow:hidden\" \n",
                "onclick=\"\n",
                "if (this.style.maxHeight === 'none') \n",
                "    this.style.maxHeight = '100px';\n",
                "else\n",
                "    this.style.maxHeight = 'none'; \n",
                "\">- : unit = ()\n",
                "</pre>"
              ],
              "output_type": "pyout",
              "prompt_number": 10,
              "metadata": {}
            },
            {
              "html": [
                "<svg width=\"100\" height=\"100\"><circle r=\"40\" cx=\"50\" cy=\"50\" /></svg>"
              ],
              "output_type": "display_data",
              "metadata": {}
            },
            {
              "html": [
                "<pre style=\"color:slategray;max-height:100px;overflow:hidden\" \n",
                "onclick=\"\n",
                "if (this.style.maxHeight === 'none') \n",
                "    this.style.maxHeight = '100px';\n",
                "else\n",
                "    this.style.maxHeight = 'none'; \n",
                "\">- : unit = ()\n",
                "</pre>"
              ],
              "output_type": "pyout",
              "prompt_number": 11,
              "metadata": {}
            }
          ],
          "input": [
            "svg [d]"
          ],
          "metadata": {},
          "cell_type": "code",
          "prompt_number": 11,
          "language": "python",
          "collapsed": false
        },
        {
          "source": [
            "_I believe there is a bug with pa_tyxml (2.2.0) for svg output.  This is a test that works with a fix provided upstream._"
          ],
          "metadata": {},
          "cell_type": "markdown"
        },
        {
          "outputs": [
            {
              "html": [
                "<svg width=\"100\" height=\"100\"><circle r=\"40\" cx=\"50\" cy=\"50\" /></svg>"
              ],
              "output_type": "display_data",
              "metadata": {}
            },
            {
              "html": [
                "<pre style=\"color:slategray;max-height:100px;overflow:hidden\" \n",
                "onclick=\"\n",
                "if (this.style.maxHeight === 'none') \n",
                "    this.style.maxHeight = '100px';\n",
                "else\n",
                "    this.style.maxHeight = 'none'; \n",
                "\">- : unit = ()\n",
                "</pre>"
              ],
              "output_type": "pyout",
              "prompt_number": 12,
              "metadata": {}
            }
          ],
          "input": [
            "svg (let module Svg = Svg.M in [ <:svg< <svg width=\"100\" height=\"100\"><circle r=\"40\" cx=\"50\" cy=\"50\" /></svg> >> ])"
          ],
          "metadata": {},
          "cell_type": "code",
          "prompt_number": 12,
          "language": "python",
          "collapsed": false
        },
        {
          "source": [
            "#install_printer"
          ],
          "metadata": {},
          "cell_type": "heading",
          "level": 2
        },
        {
          "source": [
            "IPython has the ability to print a rich representation of the output value returned by a cell.  We can do something similar by subverting the OCaml `#install_printer` directive."
          ],
          "metadata": {},
          "cell_type": "markdown"
        },
        {
          "outputs": [
            {
              "html": [
                "<pre style=\"color:slategray;max-height:100px;overflow:hidden\" \n",
                "onclick=\"\n",
                "if (this.style.maxHeight === 'none') \n",
                "    this.style.maxHeight = '100px';\n",
                "else\n",
                "    this.style.maxHeight = 'none'; \n",
                "\">val html_printer_list : Format.formatter -&gt; 'a Html5.M.elt list -&gt; unit =\n",
                "  &lt;fun&gt;\n",
                "</pre>"
              ],
              "output_type": "pyout",
              "prompt_number": 13,
              "metadata": {}
            },
            {
              "html": [
                "<pre style=\"color:slategray;max-height:100px;overflow:hidden\" \n",
                "onclick=\"\n",
                "if (this.style.maxHeight === 'none') \n",
                "    this.style.maxHeight = '100px';\n",
                "else\n",
                "    this.style.maxHeight = 'none'; \n",
                "\">val html_printer : Format.formatter -&gt; 'a Html5.M.elt -&gt; unit = &lt;fun&gt;\n",
                "</pre>"
              ],
              "output_type": "pyout",
              "prompt_number": 13,
              "metadata": {}
            }
          ],
          "input": [
            "let html_printer_list fmt t = (html t; Format.fprintf fmt \"<html>\"; ())\n",
            "let html_printer fmt x = html_printer_list fmt [x]"
          ],
          "metadata": {},
          "cell_type": "code",
          "prompt_number": 13,
          "language": "python",
          "collapsed": false
        },
        {
          "outputs": [],
          "input": [
            "#install_printer html_printer;;\n",
            "#install_printer html_printer_list;;"
          ],
          "metadata": {},
          "cell_type": "code",
          "prompt_number": 14,
          "language": "python",
          "collapsed": false
        },
        {
          "outputs": [
            {
              "html": [
                "<b> automatically printed </b>"
              ],
              "output_type": "display_data",
              "metadata": {}
            },
            {
              "html": [
                "<pre style=\"color:slategray;max-height:100px;overflow:hidden\" \n",
                "onclick=\"\n",
                "if (this.style.maxHeight === 'none') \n",
                "    this.style.maxHeight = '100px';\n",
                "else\n",
                "    this.style.maxHeight = 'none'; \n",
                "\">- : [&gt; Html5_types.b ] Html5.elt = &lt;html&gt;\n",
                "</pre>"
              ],
              "output_type": "pyout",
              "prompt_number": 15,
              "metadata": {}
            }
          ],
          "input": [
            "let _ = << <b> automatically printed </b> >>"
          ],
          "metadata": {},
          "cell_type": "code",
          "prompt_number": 15,
          "language": "python",
          "collapsed": false
        },
        {
          "source": [
            "The TyXML syntax extension does not allow quotations at the expression level so we need to wrap it with the `let _`.\n",
            "\n",
            "The next example is a html table printer for some simple types with a bit of control over formatting."
          ],
          "metadata": {},
          "cell_type": "markdown"
        },
        {
          "outputs": [
            {
              "html": [
                "<pre style=\"color:slategray;max-height:100px;overflow:hidden\" \n",
                "onclick=\"\n",
                "if (this.style.maxHeight === 'none') \n",
                "    this.style.maxHeight = '100px';\n",
                "else\n",
                "    this.style.maxHeight = 'none'; \n",
                "\">type html_table =\n",
                "    String_list of int * string list\n",
                "  | String_array of int * string array\n",
                "  | Int_list of int * int list\n",
                "  | Int_array of int * int array\n",
                "</pre>"
              ],
              "output_type": "pyout",
              "prompt_number": 16,
              "metadata": {}
            },
            {
              "html": [
                "<pre style=\"color:slategray;max-height:100px;overflow:hidden\" \n",
                "onclick=\"\n",
                "if (this.style.maxHeight === 'none') \n",
                "    this.style.maxHeight = '100px';\n",
                "else\n",
                "    this.style.maxHeight = 'none'; \n",
                "\">val html_table : html_table -&gt; [&gt; Html5_types.table ] Html5.elt = &lt;fun&gt;\n",
                "</pre>"
              ],
              "output_type": "pyout",
              "prompt_number": 16,
              "metadata": {}
            },
            {
              "html": [
                "<pre style=\"color:slategray;max-height:100px;overflow:hidden\" \n",
                "onclick=\"\n",
                "if (this.style.maxHeight === 'none') \n",
                "    this.style.maxHeight = '100px';\n",
                "else\n",
                "    this.style.maxHeight = 'none'; \n",
                "\">val html_table_printer : Format.formatter -&gt; html_table -&gt; unit = &lt;fun&gt;\n",
                "</pre>"
              ],
              "output_type": "pyout",
              "prompt_number": 16,
              "metadata": {}
            }
          ],
          "input": [
            "type html_table = \n",
            "   | String_list of int * string list\n",
            "   | String_array of int * string array\n",
            "   | Int_list of int * int list\n",
            "   | Int_array of int * int array\n",
            "   \n",
            "let rec html_table data = \n",
            "    let rec f width n row str = \n",
            "        match str with\n",
            "        | [] -> if row=[] then [] else [List.rev row]\n",
            "        | h::t ->\n",
            "            if n=width then List.rev row :: f width 0 [] str\n",
            "            else f width (n+1) (h::row) t\n",
            "    in\n",
            "    let print l = \n",
            "        let row = List.map (fun x -> << <td>$str:x$</td> >>) in\n",
            "        let rows = List.map (fun x -> << <tr>$list:row x$</tr> >>) in\n",
            "        << <table> $list:rows l$ </table> >>\n",
            "    in\n",
            "    match data with\n",
            "    | String_list(w,l) -> print (f w 0 [] l)\n",
            "    | String_array(w,l) -> html_table (String_list(w, Array.to_list l))\n",
            "    | Int_list(w,l) -> html_table (String_list(w, List.map string_of_int l))\n",
            "    | Int_array(w,l) -> html_table (Int_list(w, Array.to_list l))\n",
            "\n",
            "let html_table_printer fmt x = (html [(html_table x)]; Format.fprintf fmt \"<table>\"; ());;\n",
            "\n",
            "#install_printer html_table_printer;;\n"
          ],
          "metadata": {},
          "cell_type": "code",
          "prompt_number": 16,
          "language": "python",
          "collapsed": false
        },
        {
          "outputs": [
            {
              "html": [
                "<table> <tr><td>john</td><td>smith</td></tr><tr><td>joe</td><td>blogs</td></tr> </table>"
              ],
              "output_type": "display_data",
              "metadata": {}
            },
            {
              "html": [
                "<pre style=\"color:slategray;max-height:100px;overflow:hidden\" \n",
                "onclick=\"\n",
                "if (this.style.maxHeight === 'none') \n",
                "    this.style.maxHeight = '100px';\n",
                "else\n",
                "    this.style.maxHeight = 'none'; \n",
                "\">- : html_table = &lt;table&gt;\n",
                "</pre>"
              ],
              "output_type": "pyout",
              "prompt_number": 17,
              "metadata": {}
            }
          ],
          "input": [
            "String_list(2, [ \"john\"; \"smith\"; \"joe\"; \"blogs\" ])"
          ],
          "metadata": {},
          "cell_type": "code",
          "prompt_number": 17,
          "language": "python",
          "collapsed": false
        },
        {
          "outputs": [
            {
              "html": [
                "<table> <tr><td>0</td><td>1</td><td>2</td></tr><tr><td>3</td><td>4</td><td>5</td></tr><tr><td>6</td><td>7</td><td>8</td></tr><tr><td>9</td><td>10</td><td>11</td></tr><tr><td>12</td><td>13</td><td>14</td></tr><tr><td>15</td><td>16</td><td>17</td></tr><tr><td>18</td><td>19</td><td>20</td></tr> </table>"
              ],
              "output_type": "display_data",
              "metadata": {}
            },
            {
              "html": [
                "<table> <tr><td>0</td><td>1</td><td>2</td><td>3</td><td>4</td><td>5</td></tr><tr><td>6</td><td>7</td><td>8</td><td>9</td><td>10</td><td>11</td></tr><tr><td>12</td><td>13</td><td>14</td><td>15</td><td>16</td><td>17</td></tr><tr><td>18</td><td>19</td><td>20</td></tr> </table>"
              ],
              "output_type": "display_data",
              "metadata": {}
            },
            {
              "html": [
                "<table> <tr><td>0</td><td>1</td><td>2</td><td>3</td><td>4</td><td>5</td><td>6</td><td>7</td><td>8</td></tr><tr><td>9</td><td>10</td><td>11</td><td>12</td><td>13</td><td>14</td><td>15</td><td>16</td><td>17</td></tr><tr><td>18</td><td>19</td><td>20</td></tr> </table>"
              ],
              "output_type": "display_data",
              "metadata": {}
            },
            {
              "html": [
                "<pre style=\"color:slategray;max-height:100px;overflow:hidden\" \n",
                "onclick=\"\n",
                "if (this.style.maxHeight === 'none') \n",
                "    this.style.maxHeight = '100px';\n",
                "else\n",
                "    this.style.maxHeight = 'none'; \n",
                "\">- : html_table array = [|&lt;table&gt;; &lt;table&gt;; &lt;table&gt;|]\n",
                "</pre>"
              ],
              "output_type": "pyout",
              "prompt_number": 18,
              "metadata": {}
            }
          ],
          "input": [
            "let data = Array.init 21 (fun i -> i) in\n",
            "Array.init 3(fun i -> Int_array((i+1)*3,data))"
          ],
          "metadata": {},
          "cell_type": "code",
          "prompt_number": 18,
          "language": "python",
          "collapsed": false
        }
      ],
      "metadata": {}
    }
  ],
  "metadata": { "name": "", "language": "ocaml" },
  "nbformat": 3,
  "nbformat_minor": 0
}