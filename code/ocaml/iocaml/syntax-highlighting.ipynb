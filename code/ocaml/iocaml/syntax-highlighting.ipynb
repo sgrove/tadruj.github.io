{
 "metadata": {
  "language": "ocaml",
  "name": ""
 },
 "nbformat": 3,
 "nbformat_minor": 0,
 "worksheets": [
  {
   "cells": [
    {
     "cell_type": "markdown",
     "metadata": {},
     "source": [
      "Check how consistent the CodeMirror and highlight.js code highlighting is."
     ]
    },
    {
     "cell_type": "code",
     "collapsed": false,
     "input": [
      "(* a comment *)\n",
      "let x : int = 23\n",
      "let y : bool = false\n",
      "let z : string = \"a string\"\n",
      "let () = ignore (1)\n",
      "let () = for i=0 to 10 do () done \n",
      "let rec f i = match i with 0 -> 0 | _ -> i + f (i-1) \n",
      "module M = struct\n",
      "end\n",
      "module type S = sig\n",
      "    val t : int -> int\n",
      "end"
     ],
     "language": "python",
     "metadata": {},
     "outputs": [
      {
       "output_type": "stream",
       "stream": "stdout",
       "text": [
        "val x : int = 23\n",
        "val y : bool = false\n",
        "val z : string = \"a string\"\n",
        "val f : int -> int = <fun>\n",
        "module M : sig  end\n",
        "module type S = sig val t : int -> int end\n"
       ]
      }
     ],
     "prompt_number": 1
    },
    {
     "cell_type": "markdown",
     "metadata": {},
     "source": [
      "```ocaml\n",
      "(* a comment *)\n",
      "let x : int = 23\n",
      "let y : bool = false\n",
      "let z : string = \"a string\"\n",
      "let () = ignore (1)\n",
      "let () = for i=0 to 10 do () done \n",
      "let rec f i = match i with 0 -> 0 | _ -> i + f (i-1) \n",
      "module M = struct\n",
      "end\n",
      "module type S = sig\n",
      "    val t : int -> int\n",
      "end\n",
      "```"
     ]
    }
   ],
   "metadata": {}
  }
 ]
}