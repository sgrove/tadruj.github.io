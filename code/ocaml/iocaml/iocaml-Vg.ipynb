{
 "metadata": {
  "language": "ocaml",
  "name": ""
 },
 "nbformat": 3,
 "nbformat_minor": 0,
 "worksheets": [
  {
   "cells": [
    {
     "cell_type": "code",
     "collapsed": false,
     "input": [
      "#require \"vg,vg.svg\""
     ],
     "language": "python",
     "metadata": {},
     "outputs": [
      {
       "output_type": "stream",
       "stream": "stdout",
       "text": []
      }
     ],
     "prompt_number": 1
    },
    {
     "cell_type": "code",
     "collapsed": false,
     "input": [
      "open Gg\n",
      "open Vg"
     ],
     "language": "python",
     "metadata": {},
     "outputs": [
      {
       "output_type": "stream",
       "stream": "stdout",
       "text": []
      }
     ],
     "prompt_number": 2
    },
    {
     "cell_type": "code",
     "collapsed": false,
     "input": [
      "type svg_render = Gg.size2 * Gg.box2 * Vg.image"
     ],
     "language": "python",
     "metadata": {},
     "outputs": [
      {
       "output_type": "stream",
       "stream": "stdout",
       "text": [
        "type svg_render = Gg.size2 * Gg.box2 * Vg.image\n"
       ]
      }
     ],
     "prompt_number": 3
    },
    {
     "cell_type": "code",
     "collapsed": false,
     "input": [
      "let gray = I.const (Gg.Color.gray 0.9)"
     ],
     "language": "python",
     "metadata": {},
     "outputs": [
      {
       "output_type": "stream",
       "stream": "stdout",
       "text": [
        "val gray : Vg.image = <abstr>\n"
       ]
      }
     ],
     "prompt_number": 4
    },
    {
     "cell_type": "code",
     "collapsed": false,
     "input": [
      "let string_of_svg ?(xml_decl=false) (size,view,image) = \n",
      "    let buffer = Buffer.create 1024 in\n",
      "    let r = Vgr.create (Vgr_svg.target ~xml_decl ()) (`Buffer buffer) in\n",
      "    ignore (Vgr.render r (`Image (size, view, image)));\n",
      "    ignore (Vgr.render r `End);\n",
      "    Buffer.contents buffer"
     ],
     "language": "python",
     "metadata": {},
     "outputs": [
      {
       "output_type": "stream",
       "stream": "stdout",
       "text": [
        "val string_of_svg : ?xml_decl:bool -> Gg.size2 * Gg.box2 * Vg.image -> string =\n",
        "  <fun>\n"
       ]
      }
     ],
     "prompt_number": 26
    },
    {
     "cell_type": "code",
     "collapsed": false,
     "input": [
      "let print_svg fmt svg = \n",
      "    Iocaml.display \n",
      "        \"text/html\" \n",
      "            (\"<object data=\" ^ Iocaml.data_uri \"image/svg+xml\" (string_of_svg svg) ^ \"></object>\")\n",
      ";;\n",
      "#install_printer print_svg"
     ],
     "language": "python",
     "metadata": {},
     "outputs": [
      {
       "output_type": "stream",
       "stream": "stdout",
       "text": [
        "val print_svg : 'a -> Gg.size2 * Gg.box2 * Vg.image -> unit = <fun>\n"
       ]
      }
     ],
     "prompt_number": 32
    },
    {
     "cell_type": "code",
     "collapsed": false,
     "input": [
      "(Size2.v 30. 30., Box2.unit, gray)"
     ],
     "language": "python",
     "metadata": {},
     "outputs": [
      {
       "html": [
        "<object data=\"data:image/svg+xml;base64,PHN2ZyB4bWxucz0iaHR0cDovL3d3dy53My5vcmcvMjAwMC9zdmciIHhtbG5zOmw9Imh0dHA6\n",
        "Ly93d3cudzMub3JnLzE5OTkveGxpbmsiIHZlcnNpb249IjEuMSIgd2lkdGg9IjMwbW0iIGhl\n",
        "aWdodD0iMzBtbSIgdmlld0JveD0iMCAwIDMwIDMwIiBjb2xvci1wcm9maWxlPSJhdXRvIiBj\n",
        "b2xvci1pbnRlcnBvbGF0aW9uPSJsaW5lYXJSR0IiIGNvbG9yLWludGVycG9sYXRpb24tZmls\n",
        "dGVycz0ibGluZWFyUkdCIj48ZyBmaWxsPSJub25lIiBzdHJva2UtbWl0ZXJsaW1pdD0iOS45\n",
        "ODEyMyIgdHJhbnNmb3JtPSJtYXRyaXgoMzAgMCAwIC0zMCAtMCAzMCkiPjxkZWZzPjxwYXRo\n",
        "IGlkPSJpMSIgZD0iTTAgMEwxIDBMMSAxTDAgMVoiLz48L2RlZnM+PHVzZSBsOmhyZWY9IiNp\n",
        "MSIgZmlsbD0iI0U2RTZFNiIvPjwvZz48L3N2Zz4=\n",
        "\"></object>"
       ],
       "metadata": {},
       "output_type": "display_data"
      },
      {
       "output_type": "stream",
       "stream": "stdout",
       "text": [
        "- : Gg.size2 * Gg.box2 * Vg.image = \n"
       ]
      }
     ],
     "prompt_number": 33
    },
    {
     "cell_type": "markdown",
     "metadata": {},
     "source": [
      "This is the minimal example modified for the printer"
     ]
    },
    {
     "cell_type": "code",
     "collapsed": false,
     "input": [
      "(* 1. Define your image *)\n",
      "\n",
      "let aspect = 1.618  \n",
      "let size = Size2.v (aspect *. 100.) 100. (* mm *)\n",
      "let view = Box2.v P2.o (Size2.v aspect 1.)\n",
      "let image = I.const (Color.v_srgb 0.314 0.784 0.471)\n",
      "\n",
      "(* 2. Render *)\n",
      "let _ = size, view, image"
     ],
     "language": "python",
     "metadata": {},
     "outputs": [
      {
       "html": [
        "<object data=\"data:image/svg+xml;base64,PHN2ZyB4bWxucz0iaHR0cDovL3d3dy53My5vcmcvMjAwMC9zdmciIHhtbG5zOmw9Imh0dHA6\n",
        "Ly93d3cudzMub3JnLzE5OTkveGxpbmsiIHZlcnNpb249IjEuMSIgd2lkdGg9IjE2MS44bW0i\n",
        "IGhlaWdodD0iMTAwbW0iIHZpZXdCb3g9IjAgMCAxNjEuOCAxMDAiIGNvbG9yLXByb2ZpbGU9\n",
        "ImF1dG8iIGNvbG9yLWludGVycG9sYXRpb249ImxpbmVhclJHQiIgY29sb3ItaW50ZXJwb2xh\n",
        "dGlvbi1maWx0ZXJzPSJsaW5lYXJSR0IiPjxnIGZpbGw9Im5vbmUiIHN0cm9rZS1taXRlcmxp\n",
        "bWl0PSI5Ljk4MTIzIiB0cmFuc2Zvcm09Im1hdHJpeCgxMDAgMCAwIC0xMDAgLTAgMTAwKSI+\n",
        "PGRlZnM+PHBhdGggaWQ9ImkxIiBkPSJNMCAwTDEuNjE4IDBMMS42MTggMUwwIDFaIi8+PC9k\n",
        "ZWZzPjx1c2UgbDpocmVmPSIjaTEiIGZpbGw9IiM1MEM4NzgiLz48L2c+PC9zdmc+\n",
        "\"></object>"
       ],
       "metadata": {},
       "output_type": "display_data"
      },
      {
       "output_type": "stream",
       "stream": "stdout",
       "text": [
        "val aspect : float = 1.618\n",
        "val size : Gg.size2 = (161.8 100)\n",
        "val view : Gg.box2 = <box2 (0 0) (1.618 1)>\n",
        "val image : Vg.image = <abstr>\n",
        "- : Gg.size2 * Gg.box2 * Vg.image = \n"
       ]
      }
     ],
     "prompt_number": 34
    },
    {
     "cell_type": "markdown",
     "metadata": {},
     "source": [
      "This is the pie ambiguity example from the website"
     ]
    },
    {
     "cell_type": "code",
     "collapsed": false,
     "input": [
      "  let size = (Size2.v 90. 138.) \n",
      "  let view = (Box2.v P2.o (Size2.v 1.5 2.3)) \n",
      "  let f = begin fun _ ->\n",
      "    let pie_chart r colors pcts =\n",
      "      let rv = V2.v r r in\n",
      "      let sector (acc, start) color pct =\n",
      "        let stop = start +. (pct /. 100.) *. Float.two_pi in\n",
      "        let sector = \n",
      "          P.empty >> \n",
      "          P.line (V2.polar r start) >> P.earc rv (V2.polar r stop) >> \n",
      "          P.line P2.o \n",
      "        in\n",
      "        acc >> I.blend (color >> I.cut sector), stop\n",
      "      in\n",
      "      fst (List.fold_left2 sector (I.void, Float.pi_div_2) colors pcts)\n",
      "    in\n",
      "    let bar_chart bar_size pad colors pcts = \n",
      "      let w, h = V2.to_tuple bar_size in\n",
      "      let font = \n",
      "        { Font.name = \"Open Sans\"; slant = `Normal; weight = `W400; \n",
      "          size = (h *. 0.015) } \n",
      "      in\n",
      "      let mgray = I.const (Color.gray 0.3) in \n",
      "      let lgray = I.const (Color.gray 0.75) in\n",
      "      let bar (acc, x) color pct = \n",
      "        let bar = \n",
      "          let box = Box2.v P2.o (Size2.v w ((pct /. 100.) *. h)) in\n",
      "          color >> I.cut (P.empty >> P.rect box) \n",
      "        in\n",
      "        let label =\n",
      "          let text = Printf.sprintf \"%g\" pct in\n",
      "          let pos = P2.v (0.275 *. w) (-1.4 *. font.Font.size) in \n",
      "          mgray >> I.cut_glyphs ~text font [] >> I.move pos\n",
      "        in\n",
      "        let x = x +. pad in \n",
      "        acc >> I.blend (bar >> I.blend label >> I.move (V2.v x 0.)), x +. w\n",
      "      in\n",
      "      let bars, xmax = List.fold_left2 bar (I.void, 0.) colors pcts in\n",
      "      let floor = \n",
      "        let ln = P.empty >> P.sub (P2.v pad 0.) >> P.line (P2.v xmax 0.) in\n",
      "        lgray >> I.cut ~area:(`O { P.o with P.width = h *. 0.001 }) ln\n",
      "      in\n",
      "      bars >> I.blend floor\n",
      "    in \n",
      "    let distribs = [[ 23.; 22.; 20.; 18.; 17.];\n",
      "                    [ 20.; 20.; 19.; 21.; 20.];\n",
      "                    [ 17.; 18.; 20.; 22.; 23.]]\n",
      "    in\n",
      "    let colors =                   (* Brewer's Set2, http://colorbrewer.org/ *)\n",
      "      let c r g b = I.const (Color.v_srgbi r g b) in \n",
      "      [c 102 194 165; c 252 141 98; c 141 160 203; c 231 138 195; c 166 216 84]\n",
      "    in\n",
      "    let bar_and_pie (acc, y) pcts = \n",
      "      let pie = pie_chart 0.25 colors pcts in\n",
      "      let bars = bar_chart (Size2.v 0.08 2.) 0.04 colors pcts in\n",
      "      let bp = bars >> I.blend (pie >> I.move (V2.v 1.0 0.25)) in\n",
      "      acc >> I.blend (bp >> I.move (V2.v 0. y)), y +. 0.75\n",
      "    in\n",
      "    let white = I.const Color.white in\n",
      "    let charts = fst (List.fold_left bar_and_pie (white, 0.) distribs) in\n",
      "    charts >> I.move (V2.v 0.125 0.15)\n",
      "  end"
     ],
     "language": "python",
     "metadata": {},
     "outputs": [
      {
       "output_type": "stream",
       "stream": "stdout",
       "text": [
        "val size : Gg.size2 = (90 138)\n",
        "val view : Gg.box2 = <box2 (0 0) (1.5 2.3)>\n",
        "val f : 'a -> Vg.image = <fun>\n"
       ]
      }
     ],
     "prompt_number": 35
    },
    {
     "cell_type": "code",
     "collapsed": false,
     "input": [
      "(size,view,f())"
     ],
     "language": "python",
     "metadata": {},
     "outputs": [
      {
       "html": [
        "<object data=\"data:image/svg+xml;base64,PHN2ZyB4bWxucz0iaHR0cDovL3d3dy53My5vcmcvMjAwMC9zdmciIHhtbG5zOmw9Imh0dHA6\n",
        "Ly93d3cudzMub3JnLzE5OTkveGxpbmsiIHZlcnNpb249IjEuMSIgd2lkdGg9IjkwbW0iIGhl\n",
        "aWdodD0iMTM4bW0iIHZpZXdCb3g9IjAgMCA5MCAxMzgiIGNvbG9yLXByb2ZpbGU9ImF1dG8i\n",
        "IGNvbG9yLWludGVycG9sYXRpb249ImxpbmVhclJHQiIgY29sb3ItaW50ZXJwb2xhdGlvbi1m\n",
        "aWx0ZXJzPSJsaW5lYXJSR0IiPjxnIGZpbGw9Im5vbmUiIHN0cm9rZS1taXRlcmxpbWl0PSI5\n",
        "Ljk4MTIzIiB0cmFuc2Zvcm09Im1hdHJpeCg2MCAwIDAgLTYwIC0wIDEzOCkiPjxnIHRyYW5z\n",
        "Zm9ybT0idHJhbnNsYXRlKDAuMTI1IDAuMTUpIj48ZGVmcz48cGF0aCBpZD0iaTEiIGQ9Ik0t\n",
        "MC4xMjUgLTAuMTVMMS4zNzUgLTAuMTVMMS4zNzUgMi4xNUwtMC4xMjUgMi4xNVoiLz48L2Rl\n",
        "ZnM+PHVzZSBsOmhyZWY9IiNpMSIgZmlsbD0iI0ZGRkZGRiIvPjxnIHRyYW5zZm9ybT0idHJh\n",
        "bnNsYXRlKDAgMCkiPjx1c2UgbDpocmVmPSIjaTEiIGZpbGw9IiMwMDAwMDAiIGZpbGwtb3Bh\n",
        "Y2l0eT0iMCIvPjxnIHRyYW5zZm9ybT0idHJhbnNsYXRlKDAuMDQgMCkiPjxkZWZzPjxwYXRo\n",
        "IGlkPSJpMiIgZD0iTTAgMEwwLjA4IDBMMC4wOCAwLjQ2TDAgMC40NloiLz48L2RlZnM+PHVz\n",
        "ZSBsOmhyZWY9IiNpMiIgZmlsbD0iIzY2QzJBNSIvPjxnIHRyYW5zZm9ybT0idHJhbnNsYXRl\n",
        "KDAuMDIyIC0wLjA0MikiPjx0ZXh0IHRyYW5zZm9ybT0ic2NhbGUoMSwtMSkiIGZvbnQtZmFt\n",
        "aWx5PSJPcGVuIFNhbnMiIGZvbnQtc3R5bGU9Im5vcm1hbCIgZm9udC13ZWlnaHQ9IjQwMCIg\n",
        "Zm9udC1zaXplPSIwLjAzIiAgZmlsbD0iIzRENEQ0RCI+MjM8L3RleHQ+PC9nPjwvZz48ZyB0\n",
        "cmFuc2Zvcm09InRyYW5zbGF0ZSgwLjE2IDApIj48ZGVmcz48cGF0aCBpZD0iaTMiIGQ9Ik0w\n",
        "IDBMMC4wOCAwTDAuMDggMC40NEwwIDAuNDRaIi8+PC9kZWZzPjx1c2UgbDpocmVmPSIjaTMi\n",
        "IGZpbGw9IiNGQzhENjIiLz48ZyB0cmFuc2Zvcm09InRyYW5zbGF0ZSgwLjAyMiAtMC4wNDIp\n",
        "Ij48dGV4dCB0cmFuc2Zvcm09InNjYWxlKDEsLTEpIiBmb250LWZhbWlseT0iT3BlbiBTYW5z\n",
        "IiBmb250LXN0eWxlPSJub3JtYWwiIGZvbnQtd2VpZ2h0PSI0MDAiIGZvbnQtc2l6ZT0iMC4w\n",
        "MyIgIGZpbGw9IiM0RDRENEQiPjIyPC90ZXh0PjwvZz48L2c+PGcgdHJhbnNmb3JtPSJ0cmFu\n",
        "c2xhdGUoMC4yOCAwKSI+PGRlZnM+PHBhdGggaWQ9Imk0IiBkPSJNMCAwTDAuMDggMEwwLjA4\n",
        "IDAuNEwwIDAuNFoiLz48L2RlZnM+PHVzZSBsOmhyZWY9IiNpNCIgZmlsbD0iIzhEQTBDQiIv\n",
        "PjxnIHRyYW5zZm9ybT0idHJhbnNsYXRlKDAuMDIyIC0wLjA0MikiPjx0ZXh0IHRyYW5zZm9y\n",
        "bT0ic2NhbGUoMSwtMSkiIGZvbnQtZmFtaWx5PSJPcGVuIFNhbnMiIGZvbnQtc3R5bGU9Im5v\n",
        "cm1hbCIgZm9udC13ZWlnaHQ9IjQwMCIgZm9udC1zaXplPSIwLjAzIiAgZmlsbD0iIzRENEQ0\n",
        "RCI+MjA8L3RleHQ+PC9nPjwvZz48ZyB0cmFuc2Zvcm09InRyYW5zbGF0ZSgwLjQgMCkiPjxk\n",
        "ZWZzPjxwYXRoIGlkPSJpNSIgZD0iTTAgMEwwLjA4IDBMMC4wOCAwLjM2TDAgMC4zNloiLz48\n",
        "L2RlZnM+PHVzZSBsOmhyZWY9IiNpNSIgZmlsbD0iI0U3OEFDMyIvPjxnIHRyYW5zZm9ybT0i\n",
        "dHJhbnNsYXRlKDAuMDIyIC0wLjA0MikiPjx0ZXh0IHRyYW5zZm9ybT0ic2NhbGUoMSwtMSki\n",
        "IGZvbnQtZmFtaWx5PSJPcGVuIFNhbnMiIGZvbnQtc3R5bGU9Im5vcm1hbCIgZm9udC13ZWln\n",
        "aHQ9IjQwMCIgZm9udC1zaXplPSIwLjAzIiAgZmlsbD0iIzRENEQ0RCI+MTg8L3RleHQ+PC9n\n",
        "PjwvZz48ZyB0cmFuc2Zvcm09InRyYW5zbGF0ZSgwLjUyIDApIj48ZGVmcz48cGF0aCBpZD0i\n",
        "aTYiIGQ9Ik0wIDBMMC4wOCAwTDAuMDggMC4zNEwwIDAuMzRaIi8+PC9kZWZzPjx1c2UgbDpo\n",
        "cmVmPSIjaTYiIGZpbGw9IiNBNkQ4NTQiLz48ZyB0cmFuc2Zvcm09InRyYW5zbGF0ZSgwLjAy\n",
        "MiAtMC4wNDIpIj48dGV4dCB0cmFuc2Zvcm09InNjYWxlKDEsLTEpIiBmb250LWZhbWlseT0i\n",
        "T3BlbiBTYW5zIiBmb250LXN0eWxlPSJub3JtYWwiIGZvbnQtd2VpZ2h0PSI0MDAiIGZvbnQt\n",
        "c2l6ZT0iMC4wMyIgIGZpbGw9IiM0RDRENEQiPjE3PC90ZXh0PjwvZz48L2c+PGRlZnM+PHBh\n",
        "dGggaWQ9Imk3IiBkPSJNMC4wNCAwTDAuNiAwIi8+PC9kZWZzPjx1c2UgbDpocmVmPSIjaTci\n",
        "IHN0cm9rZS13aWR0aD0iMC4wMDIiIHN0cm9rZT0iI0JGQkZCRiIvPjxnIHRyYW5zZm9ybT0i\n",
        "dHJhbnNsYXRlKDEgMC4yNSkiPjxkZWZzPjxwYXRoIGlkPSJpOCIgZD0iTS0xLjEyNSAtMC40\n",
        "TDAuMzc1IC0wLjRMMC4zNzUgMS45TC0xLjEyNSAxLjlaIi8+PC9kZWZzPjx1c2UgbDpocmVm\n",
        "PSIjaTgiIGZpbGw9IiMwMDAwMDAiIGZpbGwtb3BhY2l0eT0iMCIvPjxkZWZzPjxwYXRoIGlk\n",
        "PSJpOSIgZD0iTTAgMEwxLjUzMDgxZS0xNyAwLjI1QSAwLjI1IDAuMjUgMCAwIDEgLTAuMjQ4\n",
        "MDI5IDAuMDMxMzMzM0wwIDAiLz48L2RlZnM+PHVzZSBsOmhyZWY9IiNpOSIgZmlsbD0iIzY2\n",
        "QzJBNSIvPjxkZWZzPjxwYXRoIGlkPSJpMTAiIGQ9Ik0wIDBMLTAuMjQ4MDI5IDAuMDMxMzMz\n",
        "M0EgMC4yNSAwLjI1IDAgMCAxIC0wLjA3NzI1NDIgLTAuMjM3NzY0TDAgMCIvPjwvZGVmcz48\n",
        "dXNlIGw6aHJlZj0iI2kxMCIgZmlsbD0iI0ZDOEQ2MiIvPjxkZWZzPjxwYXRoIGlkPSJpMTEi\n",
        "IGQ9Ik0wIDBMLTAuMDc3MjU0MiAtMC4yMzc3NjRBIDAuMjUgMC4yNSAwIDAgMSAwLjIwMjI1\n",
        "NCAtMC4xNDY5NDZMMCAwIi8+PC9kZWZzPjx1c2UgbDpocmVmPSIjaTExIiBmaWxsPSIjOERB\n",
        "MENCIi8+PGRlZnM+PHBhdGggaWQ9ImkxMiIgZD0iTTAgMEwwLjIwMjI1NCAtMC4xNDY5NDZB\n",
        "IDAuMjUgMC4yNSAwIDAgMSAwLjIxOTA3NyAwLjEyMDQzOEwwIDAiLz48L2RlZnM+PHVzZSBs\n",
        "OmhyZWY9IiNpMTIiIGZpbGw9IiNFNzhBQzMiLz48ZGVmcz48cGF0aCBpZD0iaTEzIiBkPSJN\n",
        "MCAwTDAuMjE5MDc3IDAuMTIwNDM4QSAwLjI1IDAuMjUgMCAwIDEgNy42NTQwNGUtMTcgMC4y\n",
        "NUwwIDAiLz48L2RlZnM+PHVzZSBsOmhyZWY9IiNpMTMiIGZpbGw9IiNBNkQ4NTQiLz48L2c+\n",
        "PC9nPjxnIHRyYW5zZm9ybT0idHJhbnNsYXRlKDAgMC43NSkiPjxkZWZzPjxwYXRoIGlkPSJp\n",
        "MTQiIGQ9Ik0tMC4xMjUgLTAuOUwxLjM3NSAtMC45TDEuMzc1IDEuNEwtMC4xMjUgMS40WiIv\n",
        "PjwvZGVmcz48dXNlIGw6aHJlZj0iI2kxNCIgZmlsbD0iIzAwMDAwMCIgZmlsbC1vcGFjaXR5\n",
        "PSIwIi8+PGcgdHJhbnNmb3JtPSJ0cmFuc2xhdGUoMC4wNCAwKSI+PHVzZSBsOmhyZWY9IiNp\n",
        "NCIgZmlsbD0iIzY2QzJBNSIvPjxnIHRyYW5zZm9ybT0idHJhbnNsYXRlKDAuMDIyIC0wLjA0\n",
        "MikiPjx0ZXh0IHRyYW5zZm9ybT0ic2NhbGUoMSwtMSkiIGZvbnQtZmFtaWx5PSJPcGVuIFNh\n",
        "bnMiIGZvbnQtc3R5bGU9Im5vcm1hbCIgZm9udC13ZWlnaHQ9IjQwMCIgZm9udC1zaXplPSIw\n",
        "LjAzIiAgZmlsbD0iIzRENEQ0RCI+MjA8L3RleHQ+PC9nPjwvZz48ZyB0cmFuc2Zvcm09InRy\n",
        "YW5zbGF0ZSgwLjE2IDApIj48dXNlIGw6aHJlZj0iI2k0IiBmaWxsPSIjRkM4RDYyIi8+PGcg\n",
        "dHJhbnNmb3JtPSJ0cmFuc2xhdGUoMC4wMjIgLTAuMDQyKSI+PHRleHQgdHJhbnNmb3JtPSJz\n",
        "Y2FsZSgxLC0xKSIgZm9udC1mYW1pbHk9Ik9wZW4gU2FucyIgZm9udC1zdHlsZT0ibm9ybWFs\n",
        "IiBmb250LXdlaWdodD0iNDAwIiBmb250LXNpemU9IjAuMDMiICBmaWxsPSIjNEQ0RDREIj4y\n",
        "MDwvdGV4dD48L2c+PC9nPjxnIHRyYW5zZm9ybT0idHJhbnNsYXRlKDAuMjggMCkiPjxkZWZz\n",
        "PjxwYXRoIGlkPSJpMTUiIGQ9Ik0wIDBMMC4wOCAwTDAuMDggMC4zOEwwIDAuMzhaIi8+PC9k\n",
        "ZWZzPjx1c2UgbDpocmVmPSIjaTE1IiBmaWxsPSIjOERBMENCIi8+PGcgdHJhbnNmb3JtPSJ0\n",
        "cmFuc2xhdGUoMC4wMjIgLTAuMDQyKSI+PHRleHQgdHJhbnNmb3JtPSJzY2FsZSgxLC0xKSIg\n",
        "Zm9udC1mYW1pbHk9Ik9wZW4gU2FucyIgZm9udC1zdHlsZT0ibm9ybWFsIiBmb250LXdlaWdo\n",
        "dD0iNDAwIiBmb250LXNpemU9IjAuMDMiICBmaWxsPSIjNEQ0RDREIj4xOTwvdGV4dD48L2c+\n",
        "PC9nPjxnIHRyYW5zZm9ybT0idHJhbnNsYXRlKDAuNCAwKSI+PGRlZnM+PHBhdGggaWQ9Imkx\n",
        "NiIgZD0iTTAgMEwwLjA4IDBMMC4wOCAwLjQyTDAgMC40MloiLz48L2RlZnM+PHVzZSBsOmhy\n",
        "ZWY9IiNpMTYiIGZpbGw9IiNFNzhBQzMiLz48ZyB0cmFuc2Zvcm09InRyYW5zbGF0ZSgwLjAy\n",
        "MiAtMC4wNDIpIj48dGV4dCB0cmFuc2Zvcm09InNjYWxlKDEsLTEpIiBmb250LWZhbWlseT0i\n",
        "T3BlbiBTYW5zIiBmb250LXN0eWxlPSJub3JtYWwiIGZvbnQtd2VpZ2h0PSI0MDAiIGZvbnQt\n",
        "c2l6ZT0iMC4wMyIgIGZpbGw9IiM0RDRENEQiPjIxPC90ZXh0PjwvZz48L2c+PGcgdHJhbnNm\n",
        "b3JtPSJ0cmFuc2xhdGUoMC41MiAwKSI+PHVzZSBsOmhyZWY9IiNpNCIgZmlsbD0iI0E2RDg1\n",
        "NCIvPjxnIHRyYW5zZm9ybT0idHJhbnNsYXRlKDAuMDIyIC0wLjA0MikiPjx0ZXh0IHRyYW5z\n",
        "Zm9ybT0ic2NhbGUoMSwtMSkiIGZvbnQtZmFtaWx5PSJPcGVuIFNhbnMiIGZvbnQtc3R5bGU9\n",
        "Im5vcm1hbCIgZm9udC13ZWlnaHQ9IjQwMCIgZm9udC1zaXplPSIwLjAzIiAgZmlsbD0iIzRE\n",
        "NEQ0RCI+MjA8L3RleHQ+PC9nPjwvZz48dXNlIGw6aHJlZj0iI2k3IiBzdHJva2Utd2lkdGg9\n",
        "IjAuMDAyIiBzdHJva2U9IiNCRkJGQkYiLz48ZyB0cmFuc2Zvcm09InRyYW5zbGF0ZSgxIDAu\n",
        "MjUpIj48ZGVmcz48cGF0aCBpZD0iaTE3IiBkPSJNLTEuMTI1IC0xLjE1TDAuMzc1IC0xLjE1\n",
        "TDAuMzc1IDEuMTVMLTEuMTI1IDEuMTVaIi8+PC9kZWZzPjx1c2UgbDpocmVmPSIjaTE3IiBm\n",
        "aWxsPSIjMDAwMDAwIiBmaWxsLW9wYWNpdHk9IjAiLz48ZGVmcz48cGF0aCBpZD0iaTE4IiBk\n",
        "PSJNMCAwTDEuNTMwODFlLTE3IDAuMjVBIDAuMjUgMC4yNSAwIDAgMSAtMC4yMzc3NjQgMC4w\n",
        "NzcyNTQyTDAgMCIvPjwvZGVmcz48dXNlIGw6aHJlZj0iI2kxOCIgZmlsbD0iIzY2QzJBNSIv\n",
        "PjxkZWZzPjxwYXRoIGlkPSJpMTkiIGQ9Ik0wIDBMLTAuMjM3NzY0IDAuMDc3MjU0MkEgMC4y\n",
        "NSAwLjI1IDAgMCAxIC0wLjE0Njk0NiAtMC4yMDIyNTRMMCAwIi8+PC9kZWZzPjx1c2UgbDpo\n",
        "cmVmPSIjaTE5IiBmaWxsPSIjRkM4RDYyIi8+PGRlZnM+PHBhdGggaWQ9ImkyMCIgZD0iTTAg\n",
        "MEwtMC4xNDY5NDYgLTAuMjAyMjU0QSAwLjI1IDAuMjUgMCAwIDEgMC4xMzM5NTcgLTAuMjEx\n",
        "MDgyTDAgMCIvPjwvZGVmcz48dXNlIGw6aHJlZj0iI2kyMCIgZmlsbD0iIzhEQTBDQiIvPjxk\n",
        "ZWZzPjxwYXRoIGlkPSJpMjEiIGQ9Ik0wIDBMMC4xMzM5NTcgLTAuMjExMDgyQSAwLjI1IDAu\n",
        "MjUgMCAwIDEgMC4yMzc3NjQgMC4wNzcyNTQyTDAgMCIvPjwvZGVmcz48dXNlIGw6aHJlZj0i\n",
        "I2kyMSIgZmlsbD0iI0U3OEFDMyIvPjxkZWZzPjxwYXRoIGlkPSJpMjIiIGQ9Ik0wIDBMMC4y\n",
        "Mzc3NjQgMC4wNzcyNTQyQSAwLjI1IDAuMjUgMCAwIDEgNy42NTQwNGUtMTcgMC4yNUwwIDAi\n",
        "Lz48L2RlZnM+PHVzZSBsOmhyZWY9IiNpMjIiIGZpbGw9IiNBNkQ4NTQiLz48L2c+PC9nPjxn\n",
        "IHRyYW5zZm9ybT0idHJhbnNsYXRlKDAgMS41KSI+PGRlZnM+PHBhdGggaWQ9ImkyMyIgZD0i\n",
        "TS0wLjEyNSAtMS42NUwxLjM3NSAtMS42NUwxLjM3NSAwLjY1TC0wLjEyNSAwLjY1WiIvPjwv\n",
        "ZGVmcz48dXNlIGw6aHJlZj0iI2kyMyIgZmlsbD0iIzAwMDAwMCIgZmlsbC1vcGFjaXR5PSIw\n",
        "Ii8+PGcgdHJhbnNmb3JtPSJ0cmFuc2xhdGUoMC4wNCAwKSI+PHVzZSBsOmhyZWY9IiNpNiIg\n",
        "ZmlsbD0iIzY2QzJBNSIvPjxnIHRyYW5zZm9ybT0idHJhbnNsYXRlKDAuMDIyIC0wLjA0Miki\n",
        "Pjx0ZXh0IHRyYW5zZm9ybT0ic2NhbGUoMSwtMSkiIGZvbnQtZmFtaWx5PSJPcGVuIFNhbnMi\n",
        "IGZvbnQtc3R5bGU9Im5vcm1hbCIgZm9udC13ZWlnaHQ9IjQwMCIgZm9udC1zaXplPSIwLjAz\n",
        "IiAgZmlsbD0iIzRENEQ0RCI+MTc8L3RleHQ+PC9nPjwvZz48ZyB0cmFuc2Zvcm09InRyYW5z\n",
        "bGF0ZSgwLjE2IDApIj48dXNlIGw6aHJlZj0iI2k1IiBmaWxsPSIjRkM4RDYyIi8+PGcgdHJh\n",
        "bnNmb3JtPSJ0cmFuc2xhdGUoMC4wMjIgLTAuMDQyKSI+PHRleHQgdHJhbnNmb3JtPSJzY2Fs\n",
        "ZSgxLC0xKSIgZm9udC1mYW1pbHk9Ik9wZW4gU2FucyIgZm9udC1zdHlsZT0ibm9ybWFsIiBm\n",
        "b250LXdlaWdodD0iNDAwIiBmb250LXNpemU9IjAuMDMiICBmaWxsPSIjNEQ0RDREIj4xODwv\n",
        "dGV4dD48L2c+PC9nPjxnIHRyYW5zZm9ybT0idHJhbnNsYXRlKDAuMjggMCkiPjx1c2UgbDpo\n",
        "cmVmPSIjaTQiIGZpbGw9IiM4REEwQ0IiLz48ZyB0cmFuc2Zvcm09InRyYW5zbGF0ZSgwLjAy\n",
        "MiAtMC4wNDIpIj48dGV4dCB0cmFuc2Zvcm09InNjYWxlKDEsLTEpIiBmb250LWZhbWlseT0i\n",
        "T3BlbiBTYW5zIiBmb250LXN0eWxlPSJub3JtYWwiIGZvbnQtd2VpZ2h0PSI0MDAiIGZvbnQt\n",
        "c2l6ZT0iMC4wMyIgIGZpbGw9IiM0RDRENEQiPjIwPC90ZXh0PjwvZz48L2c+PGcgdHJhbnNm\n",
        "b3JtPSJ0cmFuc2xhdGUoMC40IDApIj48dXNlIGw6aHJlZj0iI2kzIiBmaWxsPSIjRTc4QUMz\n",
        "Ii8+PGcgdHJhbnNmb3JtPSJ0cmFuc2xhdGUoMC4wMjIgLTAuMDQyKSI+PHRleHQgdHJhbnNm\n",
        "b3JtPSJzY2FsZSgxLC0xKSIgZm9udC1mYW1pbHk9Ik9wZW4gU2FucyIgZm9udC1zdHlsZT0i\n",
        "bm9ybWFsIiBmb250LXdlaWdodD0iNDAwIiBmb250LXNpemU9IjAuMDMiICBmaWxsPSIjNEQ0\n",
        "RDREIj4yMjwvdGV4dD48L2c+PC9nPjxnIHRyYW5zZm9ybT0idHJhbnNsYXRlKDAuNTIgMCki\n",
        "Pjx1c2UgbDpocmVmPSIjaTIiIGZpbGw9IiNBNkQ4NTQiLz48ZyB0cmFuc2Zvcm09InRyYW5z\n",
        "bGF0ZSgwLjAyMiAtMC4wNDIpIj48dGV4dCB0cmFuc2Zvcm09InNjYWxlKDEsLTEpIiBmb250\n",
        "LWZhbWlseT0iT3BlbiBTYW5zIiBmb250LXN0eWxlPSJub3JtYWwiIGZvbnQtd2VpZ2h0PSI0\n",
        "MDAiIGZvbnQtc2l6ZT0iMC4wMyIgIGZpbGw9IiM0RDRENEQiPjIzPC90ZXh0PjwvZz48L2c+\n",
        "PHVzZSBsOmhyZWY9IiNpNyIgc3Ryb2tlLXdpZHRoPSIwLjAwMiIgc3Ryb2tlPSIjQkZCRkJG\n",
        "Ii8+PGcgdHJhbnNmb3JtPSJ0cmFuc2xhdGUoMSAwLjI1KSI+PGRlZnM+PHBhdGggaWQ9Imky\n",
        "NCIgZD0iTS0xLjEyNSAtMS45TDAuMzc1IC0xLjlMMC4zNzUgMC40TC0xLjEyNSAwLjRaIi8+\n",
        "PC9kZWZzPjx1c2UgbDpocmVmPSIjaTI0IiBmaWxsPSIjMDAwMDAwIiBmaWxsLW9wYWNpdHk9\n",
        "IjAiLz48ZGVmcz48cGF0aCBpZD0iaTI1IiBkPSJNMCAwTDEuNTMwODFlLTE3IDAuMjVBIDAu\n",
        "MjUgMC4yNSAwIDAgMSAtMC4yMTkwNzcgMC4xMjA0MzhMMCAwIi8+PC9kZWZzPjx1c2UgbDpo\n",
        "cmVmPSIjaTI1IiBmaWxsPSIjNjZDMkE1Ii8+PGRlZnM+PHBhdGggaWQ9ImkyNiIgZD0iTTAg\n",
        "MEwtMC4yMTkwNzcgMC4xMjA0MzhBIDAuMjUgMC4yNSAwIDAgMSAtMC4yMDIyNTQgLTAuMTQ2\n",
        "OTQ2TDAgMCIvPjwvZGVmcz48dXNlIGw6aHJlZj0iI2kyNiIgZmlsbD0iI0ZDOEQ2MiIvPjxk\n",
        "ZWZzPjxwYXRoIGlkPSJpMjciIGQ9Ik0wIDBMLTAuMjAyMjU0IC0wLjE0Njk0NkEgMC4yNSAw\n",
        "LjI1IDAgMCAxIDAuMDc3MjU0MiAtMC4yMzc3NjRMMCAwIi8+PC9kZWZzPjx1c2UgbDpocmVm\n",
        "PSIjaTI3IiBmaWxsPSIjOERBMENCIi8+PGRlZnM+PHBhdGggaWQ9ImkyOCIgZD0iTTAgMEww\n",
        "LjA3NzI1NDIgLTAuMjM3NzY0QSAwLjI1IDAuMjUgMCAwIDEgMC4yNDgwMjkgMC4wMzEzMzMz\n",
        "TDAgMCIvPjwvZGVmcz48dXNlIGw6aHJlZj0iI2kyOCIgZmlsbD0iI0U3OEFDMyIvPjxkZWZz\n",
        "PjxwYXRoIGlkPSJpMjkiIGQ9Ik0wIDBMMC4yNDgwMjkgMC4wMzEzMzMzQSAwLjI1IDAuMjUg\n",
        "MCAwIDEgNy42NTQwNGUtMTcgMC4yNUwwIDAiLz48L2RlZnM+PHVzZSBsOmhyZWY9IiNpMjki\n",
        "IGZpbGw9IiNBNkQ4NTQiLz48L2c+PC9nPjwvZz48L2c+PC9zdmc+\n",
        "\"></object>"
       ],
       "metadata": {},
       "output_type": "display_data"
      },
      {
       "output_type": "stream",
       "stream": "stdout",
       "text": [
        "- : Gg.size2 * Gg.box2 * Vg.image = \n"
       ]
      }
     ],
     "prompt_number": 36
    },
    {
     "cell_type": "markdown",
     "metadata": {},
     "source": [
      "Daniel suggests that legalizing the SVG for HTML is a better approach.  Indeed the data-uri scheme seems to cause problems with nbviewer."
     ]
    },
    {
     "cell_type": "code",
     "collapsed": false,
     "input": [
      "#require \"cow,cow.syntax\""
     ],
     "language": "python",
     "metadata": {},
     "outputs": [
      {
       "output_type": "stream",
       "stream": "stdout",
       "text": []
      }
     ],
     "prompt_number": 37
    },
    {
     "cell_type": "code",
     "collapsed": false,
     "input": [
      "let svg = string_of_svg ~xml_decl:false (size, view, image)\n",
      "let xml = Cow.Xml.of_string svg"
     ],
     "language": "python",
     "metadata": {},
     "outputs": [
      {
       "output_type": "stream",
       "stream": "stdout",
       "text": [
        "val svg : string =\n",
        "  \"<svg xmlns=\\\"http://www.w3.org/2000/svg\\\" xmlns:l=\\\"http://www.w3.org/1999/xlink\\\" version=\\\"1.1\\\" width=\\\"90mm\\\" height=\\\"138mm\\\" viewBox=\\\"0 0 90 138\\\" color-profile=\\\"auto\\\" color-interpolation=\\\"linearRGB\\\" color-interpolation-filters=\\\"linearRGB\\\"><g fill=\\\"none\\\" stroke-miterlimit=\\\"9.98123\\\" transform=\\\"matrix(60 0 0 -60 -0 138)\\\"><defs><path id=\\\"i1\\\" d=\\\"M0 0L1.5 0L1.5 2.3L0 2.3Z\\\"/></defs><use l:href=\\\"#i1\\\" fill=\\\"#50C878\\\"/></g></svg>\"\n",
        "val xml : Cow.Xml.t =\n",
        "  [`El\n",
        "     (((\"http://www.w3.org/2000/svg\", \"svg\"),\n",
        "       [((\"http://www.w3.org/2000/xmlns/\", \"xmlns\"),\n",
        "         \"http://www.w3.org/2000/svg\");\n",
        "        ((\"http://www.w3.org/2000/xmlns/\", \"l\"),\n",
        "         \"http://www.w3.org/1999/xlink\");\n",
        "        ((\"\", \"version\"), \"1.1\"); ((\"\", \"width\"), \"90mm\");\n",
        "        ((\"\", \"height\"), \"138mm\"); ((\"\", \"viewBox\"), \"0 0 90 138\");\n",
        "        ((\"\", \"color-profile\"), \"auto\");\n",
        "        ((\"\", \"color-interpolation\"), \"linearRGB\");\n",
        "        ((\"\", \"color-interpolation-filters\"), \"linearRGB\")]),\n",
        "      [`El\n",
        "         (((\"http://www.w3.org/2000/svg\", \"g\"),\n",
        "           [((\"\", \"fill\"), \"none\"); ((\"\", \"stroke-miterlimit\"), \"9.98123\");\n",
        "            ((\"\", \"transform\"), \"matrix(60 0 0 -60 -0 138)\")]),\n",
        "          [`El\n",
        "             (((\"http://www.w3.org/2000/svg\", \"defs\"), []),\n",
        "              [`El\n",
        "                 (((\"http://www.w3.org/2000/svg\", \"path\"),\n",
        "                   [((\"\", \"id\"), \"i1\");\n",
        "                    ((\"\", \"d\"), \"M0 0L1.5 0L1.5 2.3L0 2.3Z\")]),\n",
        "                  [])]);\n",
        "           `El\n",
        "             (((\"http://www.w3.org/2000/svg\", \"use\"),\n",
        "               [((\"http://www.w3.org/1999/xlink\", \"href\"), \"#i1\");\n",
        "                ((\"\", \"fill\"), \"#50C878\")]),\n",
        "              [])])])]\n"
       ]
      }
     ],
     "prompt_number": 46
    },
    {
     "cell_type": "code",
     "collapsed": false,
     "input": [
      "let converted = Cow.Xml.to_string xml"
     ],
     "language": "python",
     "metadata": {},
     "outputs": [
      {
       "output_type": "stream",
       "stream": "stdout",
       "text": [
        "val converted : string =\n",
        "  \"<svg xmlns=\\\"http://www.w3.org/2000/svg\\\" xmlns:l=\\\"http://www.w3.org/1999/xlink\\\" version=\\\"1.1\\\" width=\\\"90mm\\\" height=\\\"138mm\\\" viewBox=\\\"0 0 90 138\\\" color-profile=\\\"auto\\\" color-interpolation=\\\"linearRGB\\\" color-interpolation-filters=\\\"linearRGB\\\"><g fill=\\\"none\\\" stroke-miterlimit=\\\"9.98123\\\" transform=\\\"matrix(60 0 0 -60 -0 138)\\\"><defs><path id=\\\"i1\\\" d=\\\"M0 0L1.5 0L1.5 2.3L0 2.3Z\\\"/></defs><use l:href=\\\"#i1\\\" fill=\\\"#50C878\\\"/></g></svg>\"\n"
       ]
      }
     ],
     "prompt_number": 47
    }
   ],
   "metadata": {}
  }
 ]
}