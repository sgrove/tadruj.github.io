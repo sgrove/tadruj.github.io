{
  "worksheets": [
    {
      "cells": [
        {
          "outputs": [
            {
              "html": [
                "<pre style=\"color:slategray;max-height:100px;overflow:hidden\" \n",
                "onclick=\"\n",
                "if (this.style.maxHeight === 'none') \n",
                "    this.style.maxHeight = '100px';\n",
                "else\n",
                "    this.style.maxHeight = 'none'; \n",
                "\">- : int Core.Std.List.t = [2; 4; 6]\n",
                "</pre>"
              ],
              "output_type": "pyout",
              "prompt_number": 34,
              "metadata": {}
            }
          ],
          "input": [
            "List.filter ~f:(fun x -> x mod 2 = 0) [1;2;3;4;5;6]"
          ],
          "metadata": { "slideshow": { "slide_type": "slide" } },
          "cell_type": "code",
          "prompt_number": 34,
          "language": "python",
          "collapsed": false
        },
        {
          "outputs": [
            {
              "html": [
                "<pre style=\"color:slategray;max-height:100px;overflow:hidden\" \n",
                "onclick=\"\n",
                "if (this.style.maxHeight === 'none') \n",
                "    this.style.maxHeight = '100px';\n",
                "else\n",
                "    this.style.maxHeight = 'none'; \n",
                "\">- : int option = Some 15\n",
                "</pre>"
              ],
              "output_type": "pyout",
              "prompt_number": 35,
              "metadata": {}
            }
          ],
          "input": [
            "List.reduce ~f:(+) [1;2;3;4;5]"
          ],
          "metadata": { "slideshow": { "slide_type": "fragment" } },
          "cell_type": "code",
          "prompt_number": 35,
          "language": "python",
          "collapsed": false
        },
        {
          "outputs": [
            {
              "html": [
                "<pre style=\"color:slategray;max-height:100px;overflow:hidden\" \n",
                "onclick=\"\n",
                "if (this.style.maxHeight === 'none') \n",
                "    this.style.maxHeight = '100px';\n",
                "else\n",
                "    this.style.maxHeight = 'none'; \n",
                "\">- : Core.Std.String.t Core.Std.List.t = [&quot;ipynb&quot;; &quot;png&quot;]\n",
                "</pre>"
              ],
              "output_type": "pyout",
              "prompt_number": 36,
              "metadata": {}
            }
          ],
          "input": [
            "List.filter_map (Sys.ls_dir \".\") ~f:(fun fname ->\n",
            "match String.rsplit2 ~on:'.' fname with\n",
            "|None|Some (\"\",_) -> None\n",
            "|Some (_,ext) -> Some ext)\n",
            "|> List.dedup"
          ],
          "metadata": { "slideshow": { "slide_type": "slide" } },
          "cell_type": "code",
          "prompt_number": 36,
          "language": "python",
          "collapsed": false
        },
        {
          "outputs": [
            {
              "html": [
                "<pre style=\"color:slategray;max-height:100px;overflow:hidden\" \n",
                "onclick=\"\n",
                "if (this.style.maxHeight === 'none') \n",
                "    this.style.maxHeight = '100px';\n",
                "else\n",
                "    this.style.maxHeight = 'none'; \n",
                "\">val out7_ : Core.Std.String.t Core.Std.List.t = [&quot;ipynb&quot;; &quot;png&quot;]\n",
                "</pre>"
              ],
              "output_type": "pyout",
              "prompt_number": 41,
              "metadata": {}
            }
          ],
          "input": [
            "\tlet out7_ = List.filter_map (Sys.ls_dir \".\") ~f:(fun fname ->\n",
            "\t\tmatch String.rsplit2 ~on:'.' fname with\n",
            "\t\t|None|Some (\"\",_) -> None\n",
            "\t\t|Some (_,ext) -> Some ext)\n",
            "\t\t|> List.dedup"
          ],
          "metadata": {},
          "cell_type": "code",
          "prompt_number": 41,
          "language": "python",
          "collapsed": false
        },
        {
          "outputs": [
            {
              "html": [
                "<pre style=\"color:red;max-height:100px;overflow:hidden\" \n",
                "onclick=\"\n",
                "if (this.style.maxHeight === 'none') \n",
                "    this.style.maxHeight = '100px';\n",
                "else\n",
                "    this.style.maxHeight = 'none'; \n",
                "\">File &quot;[45]&quot;, line 1, characters 7-8:\n",
                "Error: This expression has type int but an expression was expected of type\n",
                "         ('a, out_channel, unit) format =\n",
                "           ('a, out_channel, unit, unit, unit, unit)\n",
                "           CamlinternalFormatBasics.format6\n",
                "Characters 7-8:\n",
                "  printf 3\n",
                "         ^\n",
                "</pre>"
              ],
              "output_type": "pyout",
              "prompt_number": 45,
              "metadata": {}
            }
          ],
          "input": [
            "printf 3"
          ],
          "metadata": {},
          "cell_type": "code",
          "prompt_number": 45,
          "language": "python",
          "collapsed": false
        },
        {
          "outputs": [],
          "input": [],
          "metadata": {},
          "cell_type": "code",
          "language": "python",
          "collapsed": false
        }
      ],
      "metadata": {}
    }
  ],
  "metadata": { "name": "", "language": "ocaml" },
  "nbformat": 3,
  "nbformat_minor": 0
}