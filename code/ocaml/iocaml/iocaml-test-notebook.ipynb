{
  "worksheets": [
    {
      "cells": [
        {
          "source": [
            "Basic interaction"
          ],
          "metadata": {},
          "cell_type": "heading",
          "level": 1
        },
        {
          "source": [
            "IOCaml is a basic OCaml kernel for IPython.\n",
            "\n",
            "Code can be written in notebook cells and is executed by the OCaml toploop when ctrl-return or shift-return is pressed"
          ],
          "metadata": {},
          "cell_type": "markdown"
        },
        {
          "outputs": [
            {
              "html": [
                "<pre style=\"color:slategray;max-height:100px;overflow:hidden\" \n",
                "onclick=\"\n",
                "if (this.style.maxHeight === 'none') \n",
                "    this.style.maxHeight = '100px';\n",
                "else\n",
                "    this.style.maxHeight = 'none'; \n",
                "\">val a : int = 23\n",
                "</pre>"
              ],
              "output_type": "pyout",
              "prompt_number": 4,
              "metadata": {}
            }
          ],
          "input": [
            "let a = 23"
          ],
          "metadata": {},
          "cell_type": "code",
          "prompt_number": 4,
          "language": "python",
          "collapsed": false
        },
        {
          "source": [
            "Note that you do not need \";;\" at the end of the statement.  The code in each cell is read as if it were a file being loaded into the top loop.  Multiple expressions can be entered in each cell."
          ],
          "metadata": {},
          "cell_type": "markdown"
        },
        {
          "outputs": [
            {
              "html": [
                "<pre style=\"color:slategray;max-height:100px;overflow:hidden\" \n",
                "onclick=\"\n",
                "if (this.style.maxHeight === 'none') \n",
                "    this.style.maxHeight = '100px';\n",
                "else\n",
                "    this.style.maxHeight = 'none'; \n",
                "\">val b : string = &quot;hello&quot;\n",
                "</pre>"
              ],
              "output_type": "pyout",
              "prompt_number": 5,
              "metadata": {}
            },
            {
              "html": [
                "<pre style=\"color:slategray;max-height:100px;overflow:hidden\" \n",
                "onclick=\"\n",
                "if (this.style.maxHeight === 'none') \n",
                "    this.style.maxHeight = '100px';\n",
                "else\n",
                "    this.style.maxHeight = 'none'; \n",
                "\">val c : string = &quot;world&quot;\n",
                "</pre>"
              ],
              "output_type": "pyout",
              "prompt_number": 5,
              "metadata": {}
            },
            {
              "html": [
                "<pre style=\"color:slategray;max-height:100px;overflow:hidden\" \n",
                "onclick=\"\n",
                "if (this.style.maxHeight === 'none') \n",
                "    this.style.maxHeight = '100px';\n",
                "else\n",
                "    this.style.maxHeight = 'none'; \n",
                "\">val d : string = &quot;hello world&quot;\n",
                "</pre>"
              ],
              "output_type": "pyout",
              "prompt_number": 5,
              "metadata": {}
            }
          ],
          "input": [
            "let b = \"hello\"\n",
            "let c = \"world\"\n",
            "let d = b ^ \" \" ^ c"
          ],
          "metadata": {},
          "cell_type": "code",
          "prompt_number": 5,
          "language": "python",
          "collapsed": false
        },
        {
          "source": [
            "You can load system libraries as normal."
          ],
          "metadata": {},
          "cell_type": "markdown"
        },
        {
          "outputs": [
            {
              "text": [
                "- : unit = ()\n",
                "Findlib has been successfully loaded. Additional directives:\n",
                "  #require \"package\";;      to load a package\n",
                "  #list;;                   to list the available packages\n",
                "  #camlp4o;;                to load camlp4 (standard syntax)\n",
                "  #camlp4r;;                to load camlp4 (revised syntax)\n",
                "  #predicates \"p,q,...\";;   to set these predicates\n",
                "  Topfind.reset();;         to force that packages will be reloaded\n",
                "  #thread;;                 to enable threads\n",
                "\n",
                "- : unit = ()\n"
              ],
              "output_type": "stream",
              "stream": "stdout"
            }
          ],
          "input": [
            "#use \"topfind\""
          ],
          "metadata": {},
          "cell_type": "code",
          "prompt_number": 6,
          "language": "python",
          "collapsed": false
        },
        {
          "outputs": [],
          "input": [
            "#require \"bigarray\""
          ],
          "metadata": {},
          "cell_type": "code",
          "prompt_number": 7,
          "language": "python",
          "collapsed": false
        },
        {
          "outputs": [
            {
              "html": [
                "<pre style=\"color:slategray;max-height:100px;overflow:hidden\" \n",
                "onclick=\"\n",
                "if (this.style.maxHeight === 'none') \n",
                "    this.style.maxHeight = '100px';\n",
                "else\n",
                "    this.style.maxHeight = 'none'; \n",
                "\">- : ('a, 'b, 'c) Bigarray.Array1.t -&gt; int = &lt;fun&gt;\n",
                "</pre>"
              ],
              "output_type": "pyout",
              "prompt_number": 8,
              "metadata": {}
            }
          ],
          "input": [
            "Bigarray.Array1.dim"
          ],
          "metadata": {},
          "cell_type": "code",
          "prompt_number": 8,
          "language": "python",
          "collapsed": false
        },
        {
          "source": [
            "Errors are labelled with **file [cell number]**"
          ],
          "metadata": {},
          "cell_type": "markdown"
        },
        {
          "outputs": [
            {
              "html": [
                "<pre style=\"color:slategray;max-height:100px;overflow:hidden\" \n",
                "onclick=\"\n",
                "if (this.style.maxHeight === 'none') \n",
                "    this.style.maxHeight = '100px';\n",
                "else\n",
                "    this.style.maxHeight = 'none'; \n",
                "\">val a : int = 1\n",
                "</pre>"
              ],
              "output_type": "pyout",
              "prompt_number": 12,
              "metadata": {}
            },
            {
              "html": [
                "<pre style=\"color:slategray;max-height:100px;overflow:hidden\" \n",
                "onclick=\"\n",
                "if (this.style.maxHeight === 'none') \n",
                "    this.style.maxHeight = '100px';\n",
                "else\n",
                "    this.style.maxHeight = 'none'; \n",
                "\">val b : int = 2\n",
                "</pre>"
              ],
              "output_type": "pyout",
              "prompt_number": 12,
              "metadata": {}
            },
            {
              "html": [
                "<pre style=\"color:red;max-height:100px;overflow:hidden\" \n",
                "onclick=\"\n",
                "if (this.style.maxHeight === 'none') \n",
                "    this.style.maxHeight = '100px';\n",
                "else\n",
                "    this.style.maxHeight = 'none'; \n",
                "\">File &quot;[12]&quot;, line 3, characters 16-19:\n",
                "Error: This expression has type float but an expression was expected of type\n",
                "         int\n",
                "Characters 36-39:\n",
                "  let c = a + b + 1.0\n",
                "                  ^^^\n",
                "</pre>"
              ],
              "output_type": "pyout",
              "prompt_number": 12,
              "metadata": {}
            }
          ],
          "input": [
            "let a = 1\n",
            "let b = 2\n",
            "let c = a + b + 1.0"
          ],
          "metadata": {},
          "cell_type": "code",
          "prompt_number": 12,
          "language": "python",
          "collapsed": false
        },
        {
          "source": [
            "Basic output"
          ],
          "metadata": {},
          "cell_type": "heading",
          "level": 1
        },
        {
          "source": [
            "There are three basic output types; messages from the compiler, stdout and stderr.  All three are sent to the notebook."
          ],
          "metadata": {},
          "cell_type": "markdown"
        },
        {
          "outputs": [
            {
              "text": [
                "hello"
              ],
              "output_type": "stream",
              "stream": "stdout"
            },
            {
              "text": [
                "world"
              ],
              "output_type": "stream",
              "stream": "stderr"
            },
            {
              "html": [
                "<pre style=\"color:slategray;max-height:100px;overflow:hidden\" \n",
                "onclick=\"\n",
                "if (this.style.maxHeight === 'none') \n",
                "    this.style.maxHeight = '100px';\n",
                "else\n",
                "    this.style.maxHeight = 'none'; \n",
                "\">- : unit = ()\n",
                "</pre>"
              ],
              "output_type": "pyout",
              "prompt_number": 13,
              "metadata": {}
            }
          ],
          "input": [
            "Printf.printf \"hello\";\n",
            "Printf.fprintf stderr \"world\""
          ],
          "metadata": {},
          "cell_type": "code",
          "prompt_number": 13,
          "language": "python",
          "collapsed": false
        },
        {
          "source": [
            "Data is sent to the *current* cell as it is generated."
          ],
          "metadata": {},
          "cell_type": "markdown"
        },
        {
          "outputs": [],
          "input": [
            "#thread;;"
          ],
          "metadata": {},
          "cell_type": "code",
          "prompt_number": 14,
          "language": "python",
          "collapsed": false
        },
        {
          "outputs": [
            {
              "text": [
                "hello world 0\n"
              ],
              "output_type": "stream",
              "stream": "stdout"
            },
            {
              "html": [
                "<pre style=\"color:slategray;max-height:100px;overflow:hidden\" \n",
                "onclick=\"\n",
                "if (this.style.maxHeight === 'none') \n",
                "    this.style.maxHeight = '100px';\n",
                "else\n",
                "    this.style.maxHeight = 'none'; \n",
                "\">- : Core.Std.Thread.t = &lt;abstr&gt;\n",
                "</pre>"
              ],
              "output_type": "pyout",
              "prompt_number": 19,
              "metadata": {}
            },
            {
              "text": [
                "hello world 1\n"
              ],
              "output_type": "stream",
              "stream": "stdout"
            }
          ],
          "input": [
            "Thread.create (fun () -> for i=0 to 5 do Printf.printf \"hello world %i\\n%!\" i; Unix.sleep 1 done) ()"
          ],
          "metadata": {},
          "cell_type": "code",
          "prompt_number": 19,
          "language": "python",
          "collapsed": false
        },
        {
          "source": [
            "The current cell is the one just executed, so the above could get confusing..."
          ],
          "metadata": {},
          "cell_type": "markdown"
        },
        {
          "outputs": [
            {
              "text": [
                "hello world 0\n"
              ],
              "output_type": "stream",
              "stream": "stdout"
            },
            {
              "html": [
                "<pre style=\"color:slategray;max-height:100px;overflow:hidden\" \n",
                "onclick=\"\n",
                "if (this.style.maxHeight === 'none') \n",
                "    this.style.maxHeight = '100px';\n",
                "else\n",
                "    this.style.maxHeight = 'none'; \n",
                "\">- : Core.Std.Thread.t = &lt;abstr&gt;\n",
                "</pre>"
              ],
              "output_type": "pyout",
              "prompt_number": 20,
              "metadata": {}
            },
            {
              "text": [
                "hello world 2\n"
              ],
              "output_type": "stream",
              "stream": "stdout"
            },
            {
              "text": [
                "hello world 1\n"
              ],
              "output_type": "stream",
              "stream": "stdout"
            },
            {
              "text": [
                "hello world 3\n"
              ],
              "output_type": "stream",
              "stream": "stdout"
            }
          ],
          "input": [
            "Thread.create (fun () -> for i=0 to 5 do Printf.printf \"hello world %i\\n%!\" i; Unix.sleep 1 done) ()"
          ],
          "metadata": {},
          "cell_type": "code",
          "prompt_number": 20,
          "language": "python",
          "collapsed": false
        },
        {
          "outputs": [
            {
              "text": [
                "hello world in the middle\n"
              ],
              "output_type": "stream",
              "stream": "stdout"
            },
            {
              "html": [
                "<pre style=\"color:slategray;max-height:100px;overflow:hidden\" \n",
                "onclick=\"\n",
                "if (this.style.maxHeight === 'none') \n",
                "    this.style.maxHeight = '100px';\n",
                "else\n",
                "    this.style.maxHeight = 'none'; \n",
                "\">- : unit = ()\n",
                "</pre>"
              ],
              "output_type": "pyout",
              "prompt_number": 21,
              "metadata": {}
            },
            {
              "text": [
                "hello world 2\n"
              ],
              "output_type": "stream",
              "stream": "stdout"
            },
            {
              "text": [
                "hello world 4\n"
              ],
              "output_type": "stream",
              "stream": "stdout"
            },
            {
              "text": [
                "hello world 3\n"
              ],
              "output_type": "stream",
              "stream": "stdout"
            },
            {
              "text": [
                "hello world 5\n"
              ],
              "output_type": "stream",
              "stream": "stdout"
            },
            {
              "text": [
                "hello world 4\n"
              ],
              "output_type": "stream",
              "stream": "stdout"
            },
            {
              "text": [
                "hello world 5\n"
              ],
              "output_type": "stream",
              "stream": "stdout"
            }
          ],
          "input": [
            "Printf.printf \"hello world in the middle\\n%!\""
          ],
          "metadata": {},
          "cell_type": "code",
          "prompt_number": 21,
          "language": "python",
          "collapsed": false
        },
        {
          "source": [
            "Iocaml API"
          ],
          "metadata": {},
          "cell_type": "heading",
          "level": 1
        },
        {
          "source": [
            "Some functions are available for controlling interaction with the toploop and notebook in the ```Iocaml``` module"
          ],
          "metadata": {},
          "cell_type": "markdown"
        },
        {
          "outputs": [
            {
              "text": [
                "No such package: iocaml\n"
              ],
              "output_type": "stream",
              "stream": "stdout"
            }
          ],
          "input": [
            "#require \"iocaml\""
          ],
          "metadata": {},
          "cell_type": "code",
          "prompt_number": 25,
          "language": "python",
          "collapsed": false
        },
        {
          "source": [
            "There are a few functions for disabling output."
          ],
          "metadata": {},
          "cell_type": "markdown"
        },
        {
          "outputs": [
            {
              "html": [
                "<pre style=\"color:red;max-height:100px;overflow:hidden\" \n",
                "onclick=\"\n",
                "if (this.style.maxHeight === 'none') \n",
                "    this.style.maxHeight = '100px';\n",
                "else\n",
                "    this.style.maxHeight = 'none'; \n",
                "\">File &quot;[24]&quot;, line 1, characters 0-22:\n",
                "Error: Unbound module Iocaml\n",
                "Characters 0-22:\n",
                "  Iocaml.suppress_stdout;;\n",
                "  ^^^^^^^^^^^^^^^^^^^^^^\n",
                "</pre>"
              ],
              "output_type": "pyout",
              "prompt_number": 24,
              "metadata": {}
            }
          ],
          "input": [
            "Iocaml.suppress_stdout;;\n",
            "Iocaml.suppress_stderr;;\n",
            "Iocaml.suppress_compiler;;\n",
            "Iocaml.suppress_all;;"
          ],
          "metadata": {},
          "cell_type": "code",
          "prompt_number": 24,
          "language": "python",
          "collapsed": false
        },
        {
          "outputs": [
            {
              "text": [
                "I'm back!\n"
              ],
              "output_type": "stream",
              "stream": "stdout"
            },
            {
              "text": [
                "- : unit = ()\n"
              ],
              "output_type": "stream",
              "stream": "stdout"
            }
          ],
          "input": [
            "Iocaml.suppress_stdout true;\n",
            "Printf.printf \"where am I?\\n%!\";\n",
            "Iocaml.suppress_stdout false;\n",
            "Printf.printf \"I'm back!\\n%!\";"
          ],
          "metadata": {},
          "cell_type": "code",
          "prompt_number": 14,
          "language": "python",
          "collapsed": false
        },
        {
          "source": [
            "The kernel has a command line option `-package pkg` which automatically `#use`'s topfind and loads the required package.  It can be specified multiple times to load extra packages.  The default ipython configuration file automatically loads the iocaml package."
          ],
          "metadata": {},
          "cell_type": "markdown"
        },
        {
          "source": [
            "Rich media output"
          ],
          "metadata": {},
          "cell_type": "heading",
          "level": 1
        },
        {
          "source": [
            "Data can be sent to the front end and displayed as media.  The Iocaml API provides 2 ways to do this."
          ],
          "metadata": {},
          "cell_type": "markdown"
        },
        {
          "outputs": [
            {
              "html": [
                "<pre style=\"color:red;max-height:100px;overflow:hidden\" \n",
                "onclick=\"\n",
                "if (this.style.maxHeight === 'none') \n",
                "    this.style.maxHeight = '100px';\n",
                "else\n",
                "    this.style.maxHeight = 'none'; \n",
                "\">File &quot;[26]&quot;, line 1, characters 0-14:\n",
                "Error: Unbound module Iocaml\n",
                "Characters 0-14:\n",
                "  Iocaml.display\n",
                "  ^^^^^^^^^^^^^^\n",
                "</pre>"
              ],
              "output_type": "pyout",
              "prompt_number": 26,
              "metadata": {}
            }
          ],
          "input": [
            "Iocaml.display"
          ],
          "metadata": {},
          "cell_type": "code",
          "prompt_number": 26,
          "language": "python",
          "collapsed": false
        },
        {
          "source": [
            "```Iocaml.display ~base64 mime_type \"data to display\"``` displays the data with the given mime type.  The optional base64 parameter will encode the data if that is required."
          ],
          "metadata": {},
          "cell_type": "markdown"
        },
        {
          "outputs": [
            {
              "html": [
                "<pre style=\"color:red;max-height:100px;overflow:hidden\" \n",
                "onclick=\"\n",
                "if (this.style.maxHeight === 'none') \n",
                "    this.style.maxHeight = '100px';\n",
                "else\n",
                "    this.style.maxHeight = 'none'; \n",
                "\">File &quot;[27]&quot;, line 1, characters 0-11:\n",
                "Error: Unbound module Iocaml\n",
                "Characters 0-11:\n",
                "  Iocaml.mime;;\n",
                "  ^^^^^^^^^^^\n",
                "</pre>"
              ],
              "output_type": "pyout",
              "prompt_number": 27,
              "metadata": {}
            }
          ],
          "input": [
            "Iocaml.mime;;\n",
            "Iocaml.send_mime;;"
          ],
          "metadata": {},
          "cell_type": "code",
          "prompt_number": 27,
          "language": "python",
          "collapsed": false
        },
        {
          "source": [
            "Alternatively data can be written to ```Iocaml.mime : out_channel```.  When all the data is ready call ```Iocaml.send_mime ~base64 mime_type```  to display it."
          ],
          "metadata": {},
          "cell_type": "markdown"
        },
        {
          "source": [
            "HTML output"
          ],
          "metadata": {},
          "cell_type": "heading",
          "level": 4
        },
        {
          "outputs": [
            {
              "html": [
                "<pre style=\"color:red;max-height:100px;overflow:hidden\" \n",
                "onclick=\"\n",
                "if (this.style.maxHeight === 'none') \n",
                "    this.style.maxHeight = '100px';\n",
                "else\n",
                "    this.style.maxHeight = 'none'; \n",
                "\">File &quot;[28]&quot;, line 1, characters 0-14:\n",
                "Error: Unbound module Iocaml\n",
                "Characters 0-14:\n",
                "  Iocaml.display &quot;text/html&quot; &quot;&lt;b&gt;hello &lt;/b&gt;&lt;i&gt;world&lt;/i&gt;&quot;\n",
                "  ^^^^^^^^^^^^^^\n",
                "</pre>"
              ],
              "output_type": "pyout",
              "prompt_number": 28,
              "metadata": {}
            }
          ],
          "input": [
            "Iocaml.display \"text/html\" \"<b>hello </b><i>world</i>\""
          ],
          "metadata": {},
          "cell_type": "code",
          "prompt_number": 28,
          "language": "python",
          "collapsed": false
        },
        {
          "source": [
            "This is a more complex example which renders a ```string array array``` as a table"
          ],
          "metadata": {},
          "cell_type": "markdown"
        },
        {
          "outputs": [
            {
              "html": [
                "<pre style=\"color:red;max-height:100px;overflow:hidden\" \n",
                "onclick=\"\n",
                "if (this.style.maxHeight === 'none') \n",
                "    this.style.maxHeight = '100px';\n",
                "else\n",
                "    this.style.maxHeight = 'none'; \n",
                "\">File &quot;[29]&quot;, line 3, characters 13-19:\n",
                "Error: Unbound module Iocaml\n",
                "Characters 43-49:\n",
                "      let open Iocaml in\n",
                "               ^^^^^^\n",
                "</pre>"
              ],
              "output_type": "pyout",
              "prompt_number": 29,
              "metadata": {}
            }
          ],
          "input": [
            "open Printf\n",
            "let to_table a = \n",
            "    let open Iocaml in\n",
            "    let open Printf in\n",
            "    fprintf mime \"<table>\\n\";\n",
            "    Array.iter (fun data -> \n",
            "        fprintf mime \"<tr>\\n\";\n",
            "        Array.iter (fun data -> \n",
            "            fprintf mime \"<td>%s</td>\" data\n",
            "        ) data;\n",
            "        fprintf mime \"</tr>\\n\";\n",
            "    ) a;\n",
            "    fprintf mime \"</table>\""
          ],
          "metadata": {},
          "cell_type": "code",
          "prompt_number": 29,
          "language": "python",
          "collapsed": false
        },
        {
          "outputs": [
            {
              "html": [
                "<pre style=\"color:red;max-height:100px;overflow:hidden\" \n",
                "onclick=\"\n",
                "if (this.style.maxHeight === 'none') \n",
                "    this.style.maxHeight = '100px';\n",
                "else\n",
                "    this.style.maxHeight = 'none'; \n",
                "\">File &quot;[30]&quot;, line 1, characters 0-8:\n",
                "Error: Unbound value to_table\n",
                "Characters 0-8:\n",
                "  to_table (Array.init 8 (fun row -&gt; Array.init 6 (fun col -&gt; sprintf &quot;row=%i col=%i\\n&quot; row col)));;\n",
                "  ^^^^^^^^\n",
                "</pre>"
              ],
              "output_type": "pyout",
              "prompt_number": 30,
              "metadata": {}
            }
          ],
          "input": [
            "to_table (Array.init 8 (fun row -> Array.init 6 (fun col -> sprintf \"row=%i col=%i\\n\" row col)));;\n",
            "Iocaml.send_mime \"text/html\""
          ],
          "metadata": {},
          "cell_type": "code",
          "prompt_number": 30,
          "language": "python",
          "collapsed": false
        },
        {
          "source": [
            "You can embed images from a url with html."
          ],
          "metadata": {},
          "cell_type": "markdown"
        },
        {
          "outputs": [
            {
              "html": [
                "<pre style=\"color:red;max-height:100px;overflow:hidden\" \n",
                "onclick=\"\n",
                "if (this.style.maxHeight === 'none') \n",
                "    this.style.maxHeight = '100px';\n",
                "else\n",
                "    this.style.maxHeight = 'none'; \n",
                "\">File &quot;[31]&quot;, line 1, characters 0-14:\n",
                "Error: Unbound module Iocaml\n",
                "Characters 0-14:\n",
                "  Iocaml.display &quot;text/html&quot; &quot;&lt;img src=\\&quot;http://tineye.com/images/imageurl-firefox.png\\&quot; width=\\&quot;400\\&quot; height=\\&quot;400\\&quot;&gt;&lt;/image&gt;&quot;\n",
                "  ^^^^^^^^^^^^^^\n",
                "</pre>"
              ],
              "output_type": "pyout",
              "prompt_number": 31,
              "metadata": {}
            }
          ],
          "input": [
            "Iocaml.display \"text/html\" \"<img src=\\\"http://tineye.com/images/imageurl-firefox.png\\\" width=\\\"400\\\" height=\\\"400\\\"></image>\""
          ],
          "metadata": {},
          "cell_type": "code",
          "prompt_number": 31,
          "language": "python",
          "collapsed": false
        },
        {
          "source": [
            "PNG images"
          ],
          "metadata": {},
          "cell_type": "heading",
          "level": 4
        },
        {
          "source": [
            "Images work similarly except they require base64 encoding."
          ],
          "metadata": {},
          "cell_type": "markdown"
        },
        {
          "outputs": [
            {
              "html": [
                "<pre style=\"color:red;max-height:100px;overflow:hidden\" \n",
                "onclick=\"\n",
                "if (this.style.maxHeight === 'none') \n",
                "    this.style.maxHeight = '100px';\n",
                "else\n",
                "    this.style.maxHeight = 'none'; \n",
                "\">File &quot;[32]&quot;, line 1, characters 9-28:\n",
                "Error: Unbound module Iocaml\n",
                "Characters 9-28:\n",
                "  let () = Iocaml.suppress_all true;;\n",
                "           ^^^^^^^^^^^^^^^^^^^\n",
                "</pre>"
              ],
              "output_type": "pyout",
              "prompt_number": 32,
              "metadata": {}
            }
          ],
          "input": [
            "let () = Iocaml.suppress_all true;;\n",
            "#mod_use \"/home/andyman/dev/tools/ocaml/iocaml/iocaml/png.ml\";;\n",
            "let width, height = 32,32;;\n",
            "let pixels = Array.init (width*height) (fun i -> i);;"
          ],
          "metadata": {},
          "cell_type": "code",
          "prompt_number": 32,
          "language": "python",
          "collapsed": false
        },
        {
          "outputs": [
            {
              "metadata": {},
              "output_type": "display_data",
              "png":
                "[encoded data removed]"
            },
            {
              "text": [
                "- : unit = ()\n"
              ],
              "output_type": "stream",
              "stream": "stdout"
            }
          ],
          "input": [
            "Iocaml.suppress_all false;\n",
            "Png.write_png_chnl Iocaml.mime pixels width height;\n",
            "Iocaml.send_mime ~base64:true \"image/png\""
          ],
          "metadata": {},
          "cell_type": "code",
          "prompt_number": 22,
          "language": "python",
          "collapsed": false
        }
      ],
      "metadata": {}
    }
  ],
  "metadata": { "name": "", "language": "ocaml" },
  "nbformat": 3,
  "nbformat_minor": 0
}