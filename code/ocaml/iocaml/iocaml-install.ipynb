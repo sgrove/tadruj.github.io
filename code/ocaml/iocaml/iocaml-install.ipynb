{
 "metadata": {
  "language": "ocaml",
  "name": ""
 },
 "nbformat": 3,
 "nbformat_minor": 0,
 "worksheets": [
  {
   "cells": [
    {
     "cell_type": "heading",
     "level": 1,
     "metadata": {},
     "source": [
      "Installation instructions are provided on the [IOCaml github page](https://github.com/andrewray/iocaml)"
     ]
    },
    {
     "cell_type": "markdown",
     "metadata": {},
     "source": [
      "This notebook is now out of date but is still indexed by google so I'll keep it around for a bit.\n"
     ]
    }
   ],
   "metadata": {}
  }
 ]
}