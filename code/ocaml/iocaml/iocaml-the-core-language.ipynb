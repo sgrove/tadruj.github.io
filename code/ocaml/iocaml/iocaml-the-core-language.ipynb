{
 "metadata": {
  "language": "ocaml",
  "name": ""
 },
 "nbformat": 3,
 "nbformat_minor": 0,
 "worksheets": [
  {
   "cells": [
    {
     "cell_type": "markdown",
     "metadata": {},
     "source": [
      "_This is a port of the [OCaml 4.01.0](http://caml.inria.fr/pub/docs/manual-ocaml-4.01/index.html) manuals core language section._\n",
      "\n",
      "***License***\n",
      "\n",
      "The OCaml system is copyright \u00a9 1996\u20132013 Institut National de Recherche en Informatique et en Automatique (INRIA). INRIA holds all ownership rights to the OCaml system.\n",
      "\n",
      "The OCaml system is open source and can be freely redistributed. See the file LICENSE in the distribution for licensing information.\n",
      "\n",
      "The present documentation is copyright \u00a9 2013 Institut National de Recherche en Informatique et en Automatique (INRIA). The OCaml documentation and user\u2019s manual may be reproduced and distributed in whole or in part, subject to the following conditions:\n",
      "\n",
      "1. The copyright notice above and this permission notice must be preserved complete on all complete or partial copies.\n",
      "2. Any translation or derivative work of the OCaml documentation and user\u2019s manual must be approved by the authors in writing before distribution.\n",
      "3. If you distribute the OCaml documentation and user\u2019s manual in part, instructions for obtaining the complete version of this manual must be included, and a means for obtaining a complete version provided.\n",
      "4. Small portions may be reproduced as illustrations for reviews or quotes in other works without this permission notice if proper citation is given."
     ]
    },
    {
     "cell_type": "heading",
     "level": 1,
     "metadata": {},
     "source": [
      "1 The core language"
     ]
    },
    {
     "cell_type": "markdown",
     "metadata": {},
     "source": [
      "This part of the manual is a tutorial introduction to the OCaml language. A good familiarity with programming in a conventional languages (say, Pascal or C) is assumed, but no prior exposure to functional languages is required. The present chapter introduces the core language. Chapter 2 deals with the module system, chapter 3 with the object-oriented features, chapter 4 with extensions to the core language (labeled arguments and polymorphic variants), and chapter 5 gives some advanced examples."
     ]
    },
    {
     "cell_type": "heading",
     "level": 2,
     "metadata": {},
     "source": [
      "1.1 Basics"
     ]
    },
    {
     "cell_type": "markdown",
     "metadata": {},
     "source": [
      "For this overview of OCaml, we use the interactive system, which is started by running ocaml from the Unix shell, or by launching the OCamlwin.exe application under Windows. This tutorial is presented as the transcript of a session with the interactive system: lines starting with `#` represent user input; the system responses are printed below, without a leading `#`.\n",
      "\n",
      "Under the interactive system, the user types OCaml phrases terminated by `;;` in response to the `#` prompt, and the system compiles them on the fly, executes them, and prints the outcome of evaluation. Phrases are either simple expressions, or `let` definitions of identifiers (either values or functions).\n",
      "\n",
      "> _In the IOCaml notebook interface lines starting with **In [x]** are for user input.\n",
      "> Responses are printed just below.  Also, phrases do not have to be terminated by `;;`._"
     ]
    },
    {
     "cell_type": "code",
     "collapsed": false,
     "input": [
      "1+2*3;;"
     ],
     "language": "python",
     "metadata": {},
     "outputs": [
      {
       "output_type": "stream",
       "stream": "stdout",
       "text": [
        "- : int = 7\n"
       ]
      }
     ],
     "prompt_number": 1
    },
    {
     "cell_type": "code",
     "collapsed": false,
     "input": [
      "let pi = 4.0 *. atan 1.0;;"
     ],
     "language": "python",
     "metadata": {},
     "outputs": [
      {
       "output_type": "stream",
       "stream": "stdout",
       "text": [
        "val pi : float = 3.14159265358979312\n"
       ]
      }
     ],
     "prompt_number": 2
    },
    {
     "cell_type": "code",
     "collapsed": false,
     "input": [
      "let square x = x *. x;;"
     ],
     "language": "python",
     "metadata": {},
     "outputs": [
      {
       "output_type": "stream",
       "stream": "stdout",
       "text": [
        "val square : float -> float = <fun>\n"
       ]
      }
     ],
     "prompt_number": 3
    },
    {
     "cell_type": "code",
     "collapsed": false,
     "input": [
      "square (sin pi) +. square (cos pi);;"
     ],
     "language": "python",
     "metadata": {},
     "outputs": [
      {
       "output_type": "stream",
       "stream": "stdout",
       "text": [
        "- : float = 1.\n"
       ]
      }
     ],
     "prompt_number": 4
    },
    {
     "cell_type": "markdown",
     "metadata": {},
     "source": [
      "The OCaml system computes both the value and the type for each phrase. Even function parameters need no explicit type declaration: the system infers their types from their usage in the function. Notice also that integers and floating-point numbers are distinct types, with distinct operators: `+` and `*` operate on integers, but `+.` and `*.` operate on floats."
     ]
    },
    {
     "cell_type": "code",
     "collapsed": false,
     "input": [
      "1.0 * 2;;"
     ],
     "language": "python",
     "metadata": {},
     "outputs": [
      {
       "output_type": "stream",
       "stream": "stderr",
       "text": [
        "File \"[5]\", line 1, characters 0-3:\n",
        "Error: This expression has type float but an expression was expected of type\n",
        "         int\n",
        "Characters 0-3:\n",
        "  1.0 * 2;;\n",
        "  ^^^\n"
       ]
      }
     ],
     "prompt_number": 5
    },
    {
     "cell_type": "markdown",
     "metadata": {},
     "source": [
      "Recursive functions are defined with the let rec binding:"
     ]
    },
    {
     "cell_type": "code",
     "collapsed": false,
     "input": [
      "let rec fib n =\n",
      "    if n < 2 then n else fib (n-1) + fib (n-2);;"
     ],
     "language": "python",
     "metadata": {},
     "outputs": [
      {
       "output_type": "stream",
       "stream": "stdout",
       "text": [
        "val fib : int -> int = <fun>\n"
       ]
      }
     ],
     "prompt_number": 6
    },
    {
     "cell_type": "code",
     "collapsed": false,
     "input": [
      "fib 10;;"
     ],
     "language": "python",
     "metadata": {},
     "outputs": [
      {
       "output_type": "stream",
       "stream": "stdout",
       "text": [
        "- : int = 55\n"
       ]
      }
     ],
     "prompt_number": 7
    },
    {
     "cell_type": "heading",
     "level": 2,
     "metadata": {},
     "source": [
      "1.2 Data types"
     ]
    },
    {
     "cell_type": "markdown",
     "metadata": {},
     "source": [
      "In addition to integers and floating-point numbers, OCaml offers the usual basic data types: booleans, characters, and character strings."
     ]
    },
    {
     "cell_type": "code",
     "collapsed": false,
     "input": [
      "(1 < 2) = false;;"
     ],
     "language": "python",
     "metadata": {},
     "outputs": [
      {
       "output_type": "stream",
       "stream": "stdout",
       "text": [
        "- : bool = false\n"
       ]
      }
     ],
     "prompt_number": 8
    },
    {
     "cell_type": "code",
     "collapsed": false,
     "input": [
      "'a';;"
     ],
     "language": "python",
     "metadata": {},
     "outputs": [
      {
       "output_type": "stream",
       "stream": "stdout",
       "text": [
        "- : char = 'a'\n"
       ]
      }
     ],
     "prompt_number": 9
    },
    {
     "cell_type": "code",
     "collapsed": false,
     "input": [
      "\"Hello world\";;"
     ],
     "language": "python",
     "metadata": {},
     "outputs": [
      {
       "output_type": "stream",
       "stream": "stdout",
       "text": [
        "- : string = \"Hello world\"\n"
       ]
      }
     ],
     "prompt_number": 10
    },
    {
     "cell_type": "markdown",
     "metadata": {},
     "source": [
      "Predefined data structures include tuples, arrays, and lists. General mechanisms for defining your own data structures are also provided. They will be covered in more details later; for now, we concentrate on lists. Lists are either given in extension as a bracketed list of semicolon-separated elements, or built from the empty list [] (pronounce \u201cnil\u201d) by adding elements in front using the :: (\u201ccons\u201d) operator."
     ]
    },
    {
     "cell_type": "code",
     "collapsed": false,
     "input": [
      "let l = [\"is\"; \"a\"; \"tale\"; \"told\"; \"etc.\"];;"
     ],
     "language": "python",
     "metadata": {},
     "outputs": [
      {
       "output_type": "stream",
       "stream": "stdout",
       "text": [
        "val l : string list = [\"is\"; \"a\"; \"tale\"; \"told\"; \"etc.\"]\n"
       ]
      }
     ],
     "prompt_number": 11
    },
    {
     "cell_type": "code",
     "collapsed": false,
     "input": [
      "\"Life\" :: l;;"
     ],
     "language": "python",
     "metadata": {},
     "outputs": [
      {
       "output_type": "stream",
       "stream": "stdout",
       "text": [
        "- : string list = [\"Life\"; \"is\"; \"a\"; \"tale\"; \"told\"; \"etc.\"]\n"
       ]
      }
     ],
     "prompt_number": 12
    },
    {
     "cell_type": "markdown",
     "metadata": {},
     "source": [
      "As with all other OCaml data structures, lists do not need to be explicitly allocated and deallocated from memory: all memory management is entirely automatic in OCaml. Similarly, there is no explicit handling of pointers: the OCaml compiler silently introduces pointers where necessary.\n",
      "\n",
      "As with most OCaml data structures, inspecting and destructuring lists is performed by pattern-matching. List patterns have the exact same shape as list expressions, with identifier representing unspecified parts of the list. As an example, here is insertion sort on a list:"
     ]
    },
    {
     "cell_type": "code",
     "collapsed": false,
     "input": [
      "let rec sort lst =\n",
      "    match lst with\n",
      "      [] -> []\n",
      "    | head :: tail -> insert head (sort tail)\n",
      "  and insert elt lst =\n",
      "    match lst with\n",
      "      [] -> [elt]\n",
      "    | head :: tail -> if elt <= head then elt :: lst else head :: insert elt tail\n",
      "  ;;"
     ],
     "language": "python",
     "metadata": {},
     "outputs": [
      {
       "output_type": "stream",
       "stream": "stdout",
       "text": [
        "val sort : 'a list -> 'a list = <fun>\n",
        "val insert : 'a -> 'a list -> 'a list = <fun>\n"
       ]
      }
     ],
     "prompt_number": 13
    },
    {
     "cell_type": "code",
     "collapsed": false,
     "input": [
      "sort l;;"
     ],
     "language": "python",
     "metadata": {},
     "outputs": [
      {
       "output_type": "stream",
       "stream": "stdout",
       "text": [
        "- : string list = [\"a\"; \"etc.\"; \"is\"; \"tale\"; \"told\"]\n"
       ]
      }
     ],
     "prompt_number": 14
    },
    {
     "cell_type": "markdown",
     "metadata": {},
     "source": [
      "The type inferred for sort, ```'a list -> 'a list```, means that sort can actually apply to lists of any type, and returns a list of the same type. The type 'a is a _type variable_, and stands for any given type. The reason why sort can apply to lists of any type is that the comparisons (=, <=, etc.) are _polymorphic_ in OCaml: they operate between any two values of the same type. This makes sort itself polymorphic over all list types."
     ]
    },
    {
     "cell_type": "code",
     "collapsed": false,
     "input": [
      "sort [6;2;5;3];;"
     ],
     "language": "python",
     "metadata": {},
     "outputs": [
      {
       "output_type": "stream",
       "stream": "stdout",
       "text": [
        "- : int list = [2; 3; 5; 6]\n"
       ]
      }
     ],
     "prompt_number": 15
    },
    {
     "cell_type": "code",
     "collapsed": false,
     "input": [
      "sort [ 3.14; 2.718 ];;"
     ],
     "language": "python",
     "metadata": {},
     "outputs": [
      {
       "output_type": "stream",
       "stream": "stdout",
       "text": [
        "- : float list = [2.718; 3.14]\n"
       ]
      }
     ],
     "prompt_number": 16
    },
    {
     "cell_type": "markdown",
     "metadata": {},
     "source": [
      "The sort function above does not modify its input list: it builds and returns a new list containing the same elements as the input list, in ascending order. There is actually no way in OCaml to modify in-place a list once it is built: we say that lists are _immutable_ data structures. Most OCaml data structures are immutable, but a few (most notably arrays) are _mutable_, meaning that they can be modified in-place at any time."
     ]
    },
    {
     "cell_type": "heading",
     "level": 2,
     "metadata": {},
     "source": [
      "Functions as values"
     ]
    },
    {
     "cell_type": "markdown",
     "metadata": {},
     "source": [
      "OCaml is a functional language: functions in the full mathematical sense are supported and can be passed around freely just as any other piece of data. For instance, here is a ```deriv``` function that takes any float function as argument and returns an approximation of its derivative function:"
     ]
    },
    {
     "cell_type": "code",
     "collapsed": false,
     "input": [
      "let deriv f dx = function x -> (f (x +. dx) -. f x) /. dx;;"
     ],
     "language": "python",
     "metadata": {},
     "outputs": [
      {
       "output_type": "stream",
       "stream": "stdout",
       "text": [
        "val deriv : (float -> float) -> float -> float -> float = <fun>\n"
       ]
      }
     ],
     "prompt_number": 17
    },
    {
     "cell_type": "code",
     "collapsed": false,
     "input": [
      "let sin' = deriv sin 1e-6;;"
     ],
     "language": "python",
     "metadata": {},
     "outputs": [
      {
       "output_type": "stream",
       "stream": "stdout",
       "text": [
        "val sin' : float -> float = <fun>\n"
       ]
      }
     ],
     "prompt_number": 18
    },
    {
     "cell_type": "code",
     "collapsed": false,
     "input": [
      "sin' pi;;"
     ],
     "language": "python",
     "metadata": {},
     "outputs": [
      {
       "output_type": "stream",
       "stream": "stdout",
       "text": [
        "- : float = -1.00000000013961143\n"
       ]
      }
     ],
     "prompt_number": 19
    },
    {
     "cell_type": "markdown",
     "metadata": {},
     "source": [
      "Even function composition is definable:"
     ]
    },
    {
     "cell_type": "code",
     "collapsed": false,
     "input": [
      "let compose f g = function x -> f (g x);;"
     ],
     "language": "python",
     "metadata": {},
     "outputs": [
      {
       "output_type": "stream",
       "stream": "stdout",
       "text": [
        "val compose : ('a -> 'b) -> ('c -> 'a) -> 'c -> 'b = <fun>\n"
       ]
      }
     ],
     "prompt_number": 20
    },
    {
     "cell_type": "code",
     "collapsed": false,
     "input": [
      "let cos2 = compose square cos;;"
     ],
     "language": "python",
     "metadata": {},
     "outputs": [
      {
       "output_type": "stream",
       "stream": "stdout",
       "text": [
        "val cos2 : float -> float = <fun>\n"
       ]
      }
     ],
     "prompt_number": 21
    },
    {
     "cell_type": "markdown",
     "metadata": {},
     "source": [
      "Functions that take other functions as arguments are called \u201cfunctionals\u201d, or \u201chigher-order functions\u201d. Functionals are especially useful to provide iterators or similar generic operations over a data structure. For instance, the standard OCaml library provides a ```List.map``` functional that applies a given function to each element of a list, and returns the list of the results:"
     ]
    },
    {
     "cell_type": "code",
     "collapsed": false,
     "input": [
      "List.map (function n -> n * 2 + 1) [0;1;2;3;4];;"
     ],
     "language": "python",
     "metadata": {},
     "outputs": [
      {
       "output_type": "stream",
       "stream": "stdout",
       "text": [
        "- : int list = [1; 3; 5; 7; 9]\n"
       ]
      }
     ],
     "prompt_number": 22
    },
    {
     "cell_type": "markdown",
     "metadata": {},
     "source": [
      "This functional, along with a number of other list and array functionals, is predefined because it is often useful, but there is nothing magic with it: it can easily be defined as follows."
     ]
    },
    {
     "cell_type": "code",
     "collapsed": false,
     "input": [
      "let rec map f l =\n",
      "    match l with\n",
      "      [] -> []\n",
      "    | hd :: tl -> f hd :: map f tl;;"
     ],
     "language": "python",
     "metadata": {},
     "outputs": [
      {
       "output_type": "stream",
       "stream": "stdout",
       "text": [
        "val map : ('a -> 'b) -> 'a list -> 'b list = <fun>\n"
       ]
      }
     ],
     "prompt_number": 23
    },
    {
     "cell_type": "heading",
     "level": 2,
     "metadata": {},
     "source": [
      "1.4 Records and variants"
     ]
    },
    {
     "cell_type": "markdown",
     "metadata": {},
     "source": [
      "User-defined data structures include records and variants. Both are defined with the type declaration. Here, we declare a record type to represent rational numbers."
     ]
    },
    {
     "cell_type": "code",
     "collapsed": false,
     "input": [
      "type ratio = {num: int; denom: int};;"
     ],
     "language": "python",
     "metadata": {},
     "outputs": [
      {
       "output_type": "stream",
       "stream": "stdout",
       "text": [
        "type ratio = { num : int; denom : int; }\n"
       ]
      }
     ],
     "prompt_number": 24
    },
    {
     "cell_type": "code",
     "collapsed": false,
     "input": [
      "let add_ratio r1 r2 =\n",
      "    {num = r1.num * r2.denom + r2.num * r1.denom;\n",
      "     denom = r1.denom * r2.denom};;"
     ],
     "language": "python",
     "metadata": {},
     "outputs": [
      {
       "output_type": "stream",
       "stream": "stdout",
       "text": [
        "val add_ratio : ratio -> ratio -> ratio = <fun>\n"
       ]
      }
     ],
     "prompt_number": 25
    },
    {
     "cell_type": "code",
     "collapsed": false,
     "input": [
      "add_ratio {num=1; denom=3} {num=2; denom=5};;"
     ],
     "language": "python",
     "metadata": {},
     "outputs": [
      {
       "output_type": "stream",
       "stream": "stdout",
       "text": [
        "- : ratio = {num = 11; denom = 15}\n"
       ]
      }
     ],
     "prompt_number": 26
    },
    {
     "cell_type": "markdown",
     "metadata": {},
     "source": [
      "The declaration of a variant type lists all possible shapes for values of that type. Each case is identified by a name, called a constructor, which serves both for constructing values of the variant type and inspecting them by pattern-matching. Constructor names are capitalized to distinguish them from variable names (which must start with a lowercase letter). For instance, here is a variant type for doing mixed arithmetic (integers and floats):"
     ]
    },
    {
     "cell_type": "code",
     "collapsed": false,
     "input": [
      "type number = Int of int | Float of float | Error;;"
     ],
     "language": "python",
     "metadata": {},
     "outputs": [
      {
       "output_type": "stream",
       "stream": "stdout",
       "text": [
        "type number = Int of int | Float of float | Error\n"
       ]
      }
     ],
     "prompt_number": 27
    },
    {
     "cell_type": "markdown",
     "metadata": {},
     "source": [
      "This declaration expresses that a value of type number is either an integer, a floating-point number, or the constant Error representing the result of an invalid operation (e.g. a division by zero).\n",
      "\n",
      "Enumerated types are a special case of variant types, where all alternatives are constants:"
     ]
    },
    {
     "cell_type": "code",
     "collapsed": false,
     "input": [
      "type sign = Positive | Negative;;"
     ],
     "language": "python",
     "metadata": {},
     "outputs": [
      {
       "output_type": "stream",
       "stream": "stdout",
       "text": [
        "type sign = Positive | Negative\n"
       ]
      }
     ],
     "prompt_number": 28
    },
    {
     "cell_type": "code",
     "collapsed": false,
     "input": [
      "let sign_int n = if n >= 0 then Positive else Negative;;"
     ],
     "language": "python",
     "metadata": {},
     "outputs": [
      {
       "output_type": "stream",
       "stream": "stdout",
       "text": [
        "val sign_int : int -> sign = <fun>\n"
       ]
      }
     ],
     "prompt_number": 29
    },
    {
     "cell_type": "markdown",
     "metadata": {},
     "source": [
      "To define arithmetic operations for the number type, we use pattern-matching on the two numbers involved:"
     ]
    },
    {
     "cell_type": "code",
     "collapsed": false,
     "input": [
      "let add_num n1 n2 =\n",
      "    match (n1, n2) with\n",
      "      (Int i1, Int i2) ->\n",
      "        (* Check for overflow of integer addition *)\n",
      "        if sign_int i1 = sign_int i2 && sign_int (i1 + i2) <> sign_int i1\n",
      "        then Float(float i1 +. float i2)\n",
      "        else Int(i1 + i2)\n",
      "    | (Int i1, Float f2) -> Float(float i1 +. f2)\n",
      "    | (Float f1, Int i2) -> Float(f1 +. float i2)\n",
      "    | (Float f1, Float f2) -> Float(f1 +. f2)\n",
      "    | (Error, _) -> Error\n",
      "    | (_, Error) -> Error;;"
     ],
     "language": "python",
     "metadata": {},
     "outputs": [
      {
       "output_type": "stream",
       "stream": "stdout",
       "text": [
        "val add_num : number -> number -> number = <fun>\n"
       ]
      }
     ],
     "prompt_number": 30
    },
    {
     "cell_type": "code",
     "collapsed": false,
     "input": [
      "add_num (Int 123) (Float 3.14159);;"
     ],
     "language": "python",
     "metadata": {},
     "outputs": [
      {
       "output_type": "stream",
       "stream": "stdout",
       "text": [
        "- : number = Float 126.14159\n"
       ]
      }
     ],
     "prompt_number": 31
    },
    {
     "cell_type": "markdown",
     "metadata": {},
     "source": [
      "The most common usage of variant types is to describe recursive data structures. Consider for example the type of binary trees:"
     ]
    },
    {
     "cell_type": "code",
     "collapsed": false,
     "input": [
      "type 'a btree = Empty | Node of 'a * 'a btree * 'a btree;;"
     ],
     "language": "python",
     "metadata": {},
     "outputs": [
      {
       "output_type": "stream",
       "stream": "stdout",
       "text": [
        "type 'a btree = Empty | Node of 'a * 'a btree * 'a btree\n"
       ]
      }
     ],
     "prompt_number": 32
    },
    {
     "cell_type": "markdown",
     "metadata": {},
     "source": [
      "This definition reads as follow: a binary tree containing values of type 'a (an arbitrary type) is either empty, or is a node containing one value of type 'a and two subtrees containing also values of type 'a, that is, two 'a btree.\n",
      "\n",
      "Operations on binary trees are naturally expressed as recursive functions following the same structure as the type definition itself. For instance, here are functions performing lookup and insertion in ordered binary trees (elements increase from left to right):"
     ]
    },
    {
     "cell_type": "code",
     "collapsed": false,
     "input": [
      "let rec member x btree =\n",
      "    match btree with\n",
      "      Empty -> false\n",
      "    | Node(y, left, right) ->\n",
      "        if x = y then true else\n",
      "        if x < y then member x left else member x right;;"
     ],
     "language": "python",
     "metadata": {},
     "outputs": [
      {
       "output_type": "stream",
       "stream": "stdout",
       "text": [
        "val member : 'a -> 'a btree -> bool = <fun>\n"
       ]
      }
     ],
     "prompt_number": 33
    },
    {
     "cell_type": "code",
     "collapsed": false,
     "input": [
      "let rec insert x btree =\n",
      "    match btree with\n",
      "      Empty -> Node(x, Empty, Empty)\n",
      "    | Node(y, left, right) ->\n",
      "        if x <= y then Node(y, insert x left, right)\n",
      "                  else Node(y, left, insert x right);;"
     ],
     "language": "python",
     "metadata": {},
     "outputs": [
      {
       "output_type": "stream",
       "stream": "stdout",
       "text": [
        "val insert : 'a -> 'a btree -> 'a btree = <fun>\n"
       ]
      }
     ],
     "prompt_number": 34
    },
    {
     "cell_type": "heading",
     "level": 2,
     "metadata": {},
     "source": [
      "1.5 Imperative features"
     ]
    },
    {
     "cell_type": "markdown",
     "metadata": {},
     "source": [
      "Though all examples so far were written in purely applicative style, OCaml is also equipped with full imperative features. This includes the usual while and for loops, as well as mutable data structures such as arrays. Arrays are either given in extension between [| and |] brackets, or allocated and initialized with the Array.create function, then filled up later by assignments. For instance, the function below sums two vectors (represented as float arrays) componentwise."
     ]
    },
    {
     "cell_type": "code",
     "collapsed": false,
     "input": [
      "let add_vect v1 v2 =\n",
      "    let len = min (Array.length v1) (Array.length v2) in\n",
      "    let res = Array.create len 0.0 in\n",
      "    for i = 0 to len - 1 do\n",
      "      res.(i) <- v1.(i) +. v2.(i)\n",
      "    done;\n",
      "    res;;"
     ],
     "language": "python",
     "metadata": {},
     "outputs": [
      {
       "output_type": "stream",
       "stream": "stdout",
       "text": [
        "val add_vect : float array -> float array -> float array = <fun>\n"
       ]
      }
     ],
     "prompt_number": 35
    },
    {
     "cell_type": "code",
     "collapsed": false,
     "input": [
      "add_vect [| 1.0; 2.0 |] [| 3.0; 4.0 |];;"
     ],
     "language": "python",
     "metadata": {},
     "outputs": [
      {
       "output_type": "stream",
       "stream": "stdout",
       "text": [
        "- : float array = [|4.; 6.|]\n"
       ]
      }
     ],
     "prompt_number": 36
    },
    {
     "cell_type": "markdown",
     "metadata": {},
     "source": [
      "Record fields can also be modified by assignment, provided they are declared mutable in the definition of the record type:"
     ]
    },
    {
     "cell_type": "code",
     "collapsed": false,
     "input": [
      "type mutable_point = { mutable x: float; mutable y: float };;"
     ],
     "language": "python",
     "metadata": {},
     "outputs": [
      {
       "output_type": "stream",
       "stream": "stdout",
       "text": [
        "type mutable_point = { mutable x : float; mutable y : float; }\n"
       ]
      }
     ],
     "prompt_number": 37
    },
    {
     "cell_type": "code",
     "collapsed": false,
     "input": [
      "let translate p dx dy =\n",
      "    p.x <- p.x +. dx; p.y <- p.y +. dy;;"
     ],
     "language": "python",
     "metadata": {},
     "outputs": [
      {
       "output_type": "stream",
       "stream": "stdout",
       "text": [
        "val translate : mutable_point -> float -> float -> unit = <fun>\n"
       ]
      }
     ],
     "prompt_number": 38
    },
    {
     "cell_type": "code",
     "collapsed": false,
     "input": [
      "let mypoint = { x = 0.0; y = 0.0 };;"
     ],
     "language": "python",
     "metadata": {},
     "outputs": [
      {
       "output_type": "stream",
       "stream": "stdout",
       "text": [
        "val mypoint : mutable_point = {x = 0.; y = 0.}\n"
       ]
      }
     ],
     "prompt_number": 39
    },
    {
     "cell_type": "code",
     "collapsed": false,
     "input": [
      "translate mypoint 1.0 2.0;;"
     ],
     "language": "python",
     "metadata": {},
     "outputs": [
      {
       "output_type": "stream",
       "stream": "stdout",
       "text": [
        "- : unit = ()\n"
       ]
      }
     ],
     "prompt_number": 40
    },
    {
     "cell_type": "code",
     "collapsed": false,
     "input": [
      "mypoint;;"
     ],
     "language": "python",
     "metadata": {},
     "outputs": [
      {
       "output_type": "stream",
       "stream": "stdout",
       "text": [
        "- : mutable_point = {x = 1.; y = 2.}\n"
       ]
      }
     ],
     "prompt_number": 41
    },
    {
     "cell_type": "markdown",
     "metadata": {},
     "source": [
      "OCaml has no built-in notion of variable \u2013 identifiers whose current value can be changed by assignment (the ```let``` binding is not an assignment, it introduces a new identifier with a new scope).  However, the standard library provides references, which are mutable indirection cells (or one-element arrays), with operators ! to fetch the current contents of the reference and := to assign the contents. Variables can then be emulated by ```let```-binding a reference. For instance, here is an in-place insertion sort over arrays:"
     ]
    },
    {
     "cell_type": "code",
     "collapsed": false,
     "input": [
      "let insertion_sort a =\n",
      "    for i = 1 to Array.length a - 1 do\n",
      "      let val_i = a.(i) in\n",
      "      let j = ref i in\n",
      "      while !j > 0 && val_i < a.(!j - 1) do\n",
      "        a.(!j) <- a.(!j - 1);\n",
      "        j := !j - 1\n",
      "      done;\n",
      "      a.(!j) <- val_i\n",
      "    done;;"
     ],
     "language": "python",
     "metadata": {},
     "outputs": [
      {
       "output_type": "stream",
       "stream": "stdout",
       "text": [
        "val insertion_sort : 'a array -> unit = <fun>\n"
       ]
      }
     ],
     "prompt_number": 42
    },
    {
     "cell_type": "markdown",
     "metadata": {},
     "source": [
      "References are also useful to write functions that maintain a current state between two calls to the function. For instance, the following pseudo-random number generator keeps the last returned number in a reference:"
     ]
    },
    {
     "cell_type": "code",
     "collapsed": false,
     "input": [
      "let current_rand = ref 0;;"
     ],
     "language": "python",
     "metadata": {},
     "outputs": [
      {
       "output_type": "stream",
       "stream": "stdout",
       "text": [
        "val current_rand : int ref = {contents = 0}\n"
       ]
      }
     ],
     "prompt_number": 43
    },
    {
     "cell_type": "code",
     "collapsed": false,
     "input": [
      "let random () =\n",
      "    current_rand := !current_rand * 25713 + 1345;\n",
      "    !current_rand;;"
     ],
     "language": "python",
     "metadata": {},
     "outputs": [
      {
       "output_type": "stream",
       "stream": "stdout",
       "text": [
        "val random : unit -> int = <fun>\n"
       ]
      }
     ],
     "prompt_number": 44
    },
    {
     "cell_type": "markdown",
     "metadata": {},
     "source": [
      "Again, there is nothing magical with references: they are implemented as a single-field mutable record, as follows."
     ]
    },
    {
     "cell_type": "code",
     "collapsed": false,
     "input": [
      "type 'a ref = { mutable contents: 'a };;"
     ],
     "language": "python",
     "metadata": {},
     "outputs": [
      {
       "output_type": "stream",
       "stream": "stdout",
       "text": [
        "type 'a ref = { mutable contents : 'a; }\n"
       ]
      }
     ],
     "prompt_number": 45
    },
    {
     "cell_type": "code",
     "collapsed": false,
     "input": [
      "let ( ! ) r = r.contents;;"
     ],
     "language": "python",
     "metadata": {},
     "outputs": [
      {
       "output_type": "stream",
       "stream": "stdout",
       "text": [
        "val ( ! ) : 'a ref -> 'a = <fun>\n"
       ]
      }
     ],
     "prompt_number": 46
    },
    {
     "cell_type": "code",
     "collapsed": false,
     "input": [
      "let ( := ) r newval = r.contents <- newval;;"
     ],
     "language": "python",
     "metadata": {},
     "outputs": [
      {
       "output_type": "stream",
       "stream": "stdout",
       "text": [
        "val ( := ) : 'a ref -> 'a -> unit = <fun>\n"
       ]
      }
     ],
     "prompt_number": 47
    },
    {
     "cell_type": "markdown",
     "metadata": {},
     "source": [
      "In some special cases, you may need to store a polymorphic function in a data structure, keeping its polymorphism. Without user-provided type annotations, this is not allowed, as polymorphism is only introduced on a global level. However, you can give explicitly polymorphic types to record fields."
     ]
    },
    {
     "cell_type": "code",
     "collapsed": false,
     "input": [
      "type idref = { mutable id: 'a. 'a -> 'a };;"
     ],
     "language": "python",
     "metadata": {},
     "outputs": [
      {
       "output_type": "stream",
       "stream": "stdout",
       "text": [
        "type idref = { mutable id : 'a. 'a -> 'a; }\n"
       ]
      }
     ],
     "prompt_number": 48
    },
    {
     "cell_type": "code",
     "collapsed": false,
     "input": [
      "let r = {id = fun x -> x};;"
     ],
     "language": "python",
     "metadata": {},
     "outputs": [
      {
       "output_type": "stream",
       "stream": "stdout",
       "text": [
        "val r : idref = {id = <fun>}\n"
       ]
      }
     ],
     "prompt_number": 49
    },
    {
     "cell_type": "code",
     "collapsed": false,
     "input": [
      "let g s = (s.id 1, s.id true);;"
     ],
     "language": "python",
     "metadata": {},
     "outputs": [
      {
       "output_type": "stream",
       "stream": "stdout",
       "text": [
        "val g : idref -> int * bool = <fun>\n"
       ]
      }
     ],
     "prompt_number": 50
    },
    {
     "cell_type": "code",
     "collapsed": false,
     "input": [
      "r.id <- (fun x -> print_string \"called id\\n\"; x);;"
     ],
     "language": "python",
     "metadata": {},
     "outputs": [
      {
       "output_type": "stream",
       "stream": "stdout",
       "text": [
        "- : unit = ()\n"
       ]
      }
     ],
     "prompt_number": 51
    },
    {
     "cell_type": "code",
     "collapsed": false,
     "input": [
      "g r;;"
     ],
     "language": "python",
     "metadata": {},
     "outputs": [
      {
       "output_type": "stream",
       "stream": "stdout",
       "text": [
        "called id\n",
        "called id\n"
       ]
      },
      {
       "output_type": "stream",
       "stream": "stdout",
       "text": [
        "- : int * bool = (1, true)\n"
       ]
      }
     ],
     "prompt_number": 52
    },
    {
     "cell_type": "heading",
     "level": 2,
     "metadata": {},
     "source": [
      "1.6 Exceptions"
     ]
    },
    {
     "cell_type": "markdown",
     "metadata": {},
     "source": [
      "OCaml provides exceptions for signalling and handling exceptional conditions. Exceptions can also be used as a general-purpose non-local control structure. Exceptions are declared with the ```exception``` construct, and signalled with the ```raise``` operator. For instance, the function below for taking the head of a list uses an exception to signal the case where an empty list is given."
     ]
    },
    {
     "cell_type": "code",
     "collapsed": false,
     "input": [
      "exception Empty_list;;"
     ],
     "language": "python",
     "metadata": {},
     "outputs": [
      {
       "output_type": "stream",
       "stream": "stdout",
       "text": [
        "exception Empty_list\n"
       ]
      }
     ],
     "prompt_number": 53
    },
    {
     "cell_type": "code",
     "collapsed": false,
     "input": [
      "let head l =\n",
      "    match l with\n",
      "      [] -> raise Empty_list\n",
      "    | hd :: tl -> hd;;"
     ],
     "language": "python",
     "metadata": {},
     "outputs": [
      {
       "output_type": "stream",
       "stream": "stdout",
       "text": [
        "val head : 'a list -> 'a = <fun>\n"
       ]
      }
     ],
     "prompt_number": 54
    },
    {
     "cell_type": "code",
     "collapsed": false,
     "input": [
      "head [1;2];;"
     ],
     "language": "python",
     "metadata": {},
     "outputs": [
      {
       "output_type": "stream",
       "stream": "stdout",
       "text": [
        "- : int = 1\n"
       ]
      }
     ],
     "prompt_number": 55
    },
    {
     "cell_type": "code",
     "collapsed": false,
     "input": [
      "head [];;"
     ],
     "language": "python",
     "metadata": {},
     "outputs": [
      {
       "output_type": "stream",
       "stream": "stderr",
       "text": [
        "Exception: Empty_list.\n"
       ]
      }
     ],
     "prompt_number": 56
    },
    {
     "cell_type": "markdown",
     "metadata": {},
     "source": [
      "Exceptions can be trapped with the ```try\u2026with``` construct:"
     ]
    },
    {
     "cell_type": "code",
     "collapsed": false,
     "input": [
      "let name_of_binary_digit digit =\n",
      "    try\n",
      "      List.assoc digit [0, \"zero\"; 1, \"one\"]\n",
      "    with Not_found ->\n",
      "      \"not a binary digit\";;"
     ],
     "language": "python",
     "metadata": {},
     "outputs": [
      {
       "output_type": "stream",
       "stream": "stdout",
       "text": [
        "val name_of_binary_digit : int -> string = <fun>\n"
       ]
      }
     ],
     "prompt_number": 57
    },
    {
     "cell_type": "code",
     "collapsed": false,
     "input": [
      "name_of_binary_digit 0;;"
     ],
     "language": "python",
     "metadata": {},
     "outputs": [
      {
       "output_type": "stream",
       "stream": "stdout",
       "text": [
        "- : string = \"zero\"\n"
       ]
      }
     ],
     "prompt_number": 58
    },
    {
     "cell_type": "code",
     "collapsed": false,
     "input": [
      "name_of_binary_digit (-1);;"
     ],
     "language": "python",
     "metadata": {},
     "outputs": [
      {
       "output_type": "stream",
       "stream": "stdout",
       "text": [
        "- : string = \"not a binary digit\"\n"
       ]
      }
     ],
     "prompt_number": 59
    },
    {
     "cell_type": "markdown",
     "metadata": {},
     "source": [
      "The with part is actually a regular pattern-matching on the exception value. Thus, several exceptions can be caught by one ```try\u2026with``` construct. Also, finalization can be performed by trapping all exceptions, performing the finalization, then raising again the exception:"
     ]
    },
    {
     "cell_type": "code",
     "collapsed": false,
     "input": [
      "let temporarily_set_reference ref newval funct =\n",
      "    let oldval = !ref in\n",
      "    try\n",
      "      ref := newval;\n",
      "      let res = funct () in\n",
      "      ref := oldval;\n",
      "      res\n",
      "    with x ->\n",
      "      ref := oldval;\n",
      "      raise x;;"
     ],
     "language": "python",
     "metadata": {},
     "outputs": [
      {
       "output_type": "stream",
       "stream": "stdout",
       "text": [
        "val temporarily_set_reference : 'a ref -> 'a -> (unit -> 'b) -> 'b = <fun>\n"
       ]
      }
     ],
     "prompt_number": 60
    },
    {
     "cell_type": "heading",
     "level": 2,
     "metadata": {},
     "source": [
      "1.7 Symbolic processing of expressions"
     ]
    },
    {
     "cell_type": "markdown",
     "metadata": {},
     "source": [
      "We finish this introduction with a more complete example representative of the use of OCaml for symbolic processing: formal manipulations of arithmetic expressions containing variables. The following variant type describes the expressions we shall manipulate:"
     ]
    },
    {
     "cell_type": "code",
     "collapsed": false,
     "input": [
      "type expression =\n",
      "      Const of float\n",
      "    | Var of string\n",
      "    | Sum of expression * expression    (* e1 + e2 *)\n",
      "    | Diff of expression * expression   (* e1 - e2 *)\n",
      "    | Prod of expression * expression   (* e1 * e2 *)\n",
      "    | Quot of expression * expression   (* e1 / e2 *)\n",
      ";;"
     ],
     "language": "python",
     "metadata": {},
     "outputs": [
      {
       "output_type": "stream",
       "stream": "stdout",
       "text": [
        "type expression =\n",
        "    Const of float\n",
        "  | Var of string\n",
        "  | Sum of expression * expression\n",
        "  | Diff of expression * expression\n",
        "  | Prod of expression * expression\n",
        "  | Quot of expression * expression\n"
       ]
      }
     ],
     "prompt_number": 61
    },
    {
     "cell_type": "markdown",
     "metadata": {},
     "source": [
      "We first define a function to evaluate an expression given an environment that maps variable names to their values. For simplicity, the environment is represented as an association list."
     ]
    },
    {
     "cell_type": "code",
     "collapsed": false,
     "input": [
      "exception Unbound_variable of string;;"
     ],
     "language": "python",
     "metadata": {},
     "outputs": [
      {
       "output_type": "stream",
       "stream": "stdout",
       "text": [
        "exception Unbound_variable of string\n"
       ]
      }
     ],
     "prompt_number": 62
    },
    {
     "cell_type": "code",
     "collapsed": false,
     "input": [
      "let rec eval env exp =\n",
      "    match exp with\n",
      "      Const c -> c\n",
      "    | Var v ->\n",
      "        (try List.assoc v env with Not_found -> raise (Unbound_variable v))\n",
      "    | Sum(f, g) -> eval env f +. eval env g\n",
      "    | Diff(f, g) -> eval env f -. eval env g\n",
      "    | Prod(f, g) -> eval env f *. eval env g\n",
      "    | Quot(f, g) -> eval env f /. eval env g;;"
     ],
     "language": "python",
     "metadata": {},
     "outputs": [
      {
       "output_type": "stream",
       "stream": "stdout",
       "text": [
        "val eval : (string * float) list -> expression -> float = <fun>\n"
       ]
      }
     ],
     "prompt_number": 63
    },
    {
     "cell_type": "code",
     "collapsed": false,
     "input": [
      "eval [(\"x\", 1.0); (\"y\", 3.14)] (Prod(Sum(Var \"x\", Const 2.0), Var \"y\"));;"
     ],
     "language": "python",
     "metadata": {},
     "outputs": [
      {
       "output_type": "stream",
       "stream": "stdout",
       "text": [
        "- : float = 9.42\n"
       ]
      }
     ],
     "prompt_number": 64
    },
    {
     "cell_type": "markdown",
     "metadata": {},
     "source": [
      "Now for a real symbolic processing, we define the derivative of an expression with respect to a variable dv:"
     ]
    },
    {
     "cell_type": "code",
     "collapsed": false,
     "input": [
      "let rec deriv exp dv =\n",
      "    match exp with\n",
      "      Const c -> Const 0.0\n",
      "    | Var v -> if v = dv then Const 1.0 else Const 0.0\n",
      "    | Sum(f, g) -> Sum(deriv f dv, deriv g dv)\n",
      "    | Diff(f, g) -> Diff(deriv f dv, deriv g dv)\n",
      "    | Prod(f, g) -> Sum(Prod(f, deriv g dv), Prod(deriv f dv, g))\n",
      "    | Quot(f, g) -> Quot(Diff(Prod(deriv f dv, g), Prod(f, deriv g dv)),\n",
      "                         Prod(g, g))\n",
      ";;"
     ],
     "language": "python",
     "metadata": {},
     "outputs": [
      {
       "output_type": "stream",
       "stream": "stdout",
       "text": [
        "val deriv : expression -> string -> expression = <fun>\n"
       ]
      }
     ],
     "prompt_number": 65
    },
    {
     "cell_type": "code",
     "collapsed": false,
     "input": [
      "deriv (Quot(Const 1.0, Var \"x\")) \"x\";;"
     ],
     "language": "python",
     "metadata": {},
     "outputs": [
      {
       "output_type": "stream",
       "stream": "stdout",
       "text": [
        "- : expression =\n",
        "Quot (Diff (Prod (Const 0., Var \"x\"), Prod (Const 1., Const 1.)),\n",
        " Prod (Var \"x\", Var \"x\"))\n"
       ]
      }
     ],
     "prompt_number": 66
    },
    {
     "cell_type": "heading",
     "level": 2,
     "metadata": {},
     "source": [
      "1.8 Pretty-printing and parsing"
     ]
    },
    {
     "cell_type": "markdown",
     "metadata": {},
     "source": [
      "As shown in the examples above, the internal representation (also called _abstract syntax_) of expressions quickly becomes hard to read and write as the expressions get larger. We need a printer and a parser to go back and forth between the abstract syntax and the _concrete syntax_, which in the case of expressions is the familiar algebraic notation (e.g. 2*x+1).\n",
      "\n",
      "For the printing function, we take into account the usual precedence rules (i.e. * binds tighter than +) to avoid printing unnecessary parentheses. To this end, we maintain the current operator precedence and print parentheses around an operator only if its precedence is less than the current precedence."
     ]
    },
    {
     "cell_type": "code",
     "collapsed": false,
     "input": [
      "let print_expr exp =\n",
      "    (* Local function definitions *)\n",
      "    let open_paren prec op_prec =\n",
      "      if prec > op_prec then print_string \"(\" in\n",
      "    let close_paren prec op_prec =\n",
      "      if prec > op_prec then print_string \")\" in\n",
      "    let rec print prec exp =     (* prec is the current precedence *)\n",
      "      match exp with\n",
      "        Const c -> print_float c\n",
      "      | Var v -> print_string v\n",
      "      | Sum(f, g) ->\n",
      "          open_paren prec 0;\n",
      "          print 0 f; print_string \" + \"; print 0 g;\n",
      "          close_paren prec 0\n",
      "      | Diff(f, g) ->\n",
      "          open_paren prec 0;\n",
      "          print 0 f; print_string \" - \"; print 1 g;\n",
      "          close_paren prec 0\n",
      "      | Prod(f, g) ->\n",
      "          open_paren prec 2;\n",
      "          print 2 f; print_string \" * \"; print 2 g;\n",
      "          close_paren prec 2\n",
      "      | Quot(f, g) ->\n",
      "          open_paren prec 2;\n",
      "          print 2 f; print_string \" / \"; print 3 g;\n",
      "          close_paren prec 2\n",
      "    in print 0 exp;;"
     ],
     "language": "python",
     "metadata": {},
     "outputs": [
      {
       "output_type": "stream",
       "stream": "stdout",
       "text": [
        "val print_expr : expression -> unit = <fun>\n"
       ]
      }
     ],
     "prompt_number": 67
    },
    {
     "cell_type": "code",
     "collapsed": false,
     "input": [
      "let e = Sum(Prod(Const 2.0, Var \"x\"), Const 1.0);;"
     ],
     "language": "python",
     "metadata": {},
     "outputs": [
      {
       "output_type": "stream",
       "stream": "stdout",
       "text": [
        "val e : expression = Sum (Prod (Const 2., Var \"x\"), Const 1.)\n"
       ]
      }
     ],
     "prompt_number": 68
    },
    {
     "cell_type": "code",
     "collapsed": false,
     "input": [
      "print_expr e; print_newline ();;"
     ],
     "language": "python",
     "metadata": {},
     "outputs": [
      {
       "output_type": "stream",
       "stream": "stdout",
       "text": [
        "2. * x + 1.\n"
       ]
      },
      {
       "output_type": "stream",
       "stream": "stdout",
       "text": [
        "- : unit = ()\n"
       ]
      }
     ],
     "prompt_number": 69
    },
    {
     "cell_type": "code",
     "collapsed": false,
     "input": [
      "print_expr (deriv e \"x\"); print_newline ();;"
     ],
     "language": "python",
     "metadata": {},
     "outputs": [
      {
       "output_type": "stream",
       "stream": "stdout",
       "text": [
        "2. * 1. + 0. * x + 0.\n"
       ]
      },
      {
       "output_type": "stream",
       "stream": "stdout",
       "text": [
        "- : unit = ()\n"
       ]
      }
     ],
     "prompt_number": 70
    },
    {
     "cell_type": "markdown",
     "metadata": {},
     "source": [
      "Parsing (transforming concrete syntax into abstract syntax) is usually more delicate. OCaml offers several tools to help write parsers: on the one hand, OCaml versions of the lexer generator Lex and the parser generator Yacc (see chapter 12), which handle LALR(1) languages using push-down automata; on the other hand, a predefined type of streams (of characters or tokens) and pattern-matching over streams, which facilitate the writing of recursive-descent parsers for LL(1) languages. An example using ```ocamllex``` and ```ocamlyacc``` is given in chapter 12. Here, we will use stream parsers. The syntactic support for stream parsers is provided by the Camlp4 preprocessor, which can be loaded into the interactive toplevel via the #load directives below."
     ]
    },
    {
     "cell_type": "code",
     "collapsed": false,
     "input": [
      "#load \"dynlink.cma\";;\n",
      "#load \"camlp4o.cma\";;"
     ],
     "language": "python",
     "metadata": {},
     "outputs": [
      {
       "output_type": "stream",
       "stream": "stdout",
       "text": []
      }
     ],
     "prompt_number": 71
    },
    {
     "cell_type": "code",
     "collapsed": false,
     "input": [
      "open Genlex;;"
     ],
     "language": "python",
     "metadata": {},
     "outputs": [
      {
       "output_type": "stream",
       "stream": "stdout",
       "text": [
        "\tCamlp4 Parsing version 4.01.0\n",
        "\n"
       ]
      },
      {
       "output_type": "stream",
       "stream": "stdout",
       "text": []
      }
     ],
     "prompt_number": 72
    },
    {
     "cell_type": "code",
     "collapsed": false,
     "input": [
      "let lexer = make_lexer [\"(\"; \")\"; \"+\"; \"-\"; \"*\"; \"/\"];;"
     ],
     "language": "python",
     "metadata": {},
     "outputs": [
      {
       "output_type": "stream",
       "stream": "stdout",
       "text": [
        "val lexer : char Stream.t -> Genlex.token Stream.t = <fun>\n"
       ]
      }
     ],
     "prompt_number": 73
    },
    {
     "cell_type": "code",
     "collapsed": false,
     "input": [
      "let token_stream = lexer (Stream.of_string \"1.0 +x\");;"
     ],
     "language": "python",
     "metadata": {},
     "outputs": [
      {
       "output_type": "stream",
       "stream": "stdout",
       "text": [
        "val token_stream : Genlex.token Stream.t = <abstr>\n"
       ]
      }
     ],
     "prompt_number": 74
    },
    {
     "cell_type": "code",
     "collapsed": false,
     "input": [
      "Stream.next token_stream;;"
     ],
     "language": "python",
     "metadata": {},
     "outputs": [
      {
       "output_type": "stream",
       "stream": "stdout",
       "text": [
        "- : Genlex.token = Float 1.\n"
       ]
      }
     ],
     "prompt_number": 75
    },
    {
     "cell_type": "code",
     "collapsed": false,
     "input": [
      "Stream.next token_stream;;"
     ],
     "language": "python",
     "metadata": {},
     "outputs": [
      {
       "output_type": "stream",
       "stream": "stdout",
       "text": [
        "- : Genlex.token = Kwd \"+\"\n"
       ]
      }
     ],
     "prompt_number": 76
    },
    {
     "cell_type": "code",
     "collapsed": false,
     "input": [
      "Stream.next token_stream;;"
     ],
     "language": "python",
     "metadata": {},
     "outputs": [
      {
       "output_type": "stream",
       "stream": "stdout",
       "text": [
        "- : Genlex.token = Ident \"x\"\n"
       ]
      }
     ],
     "prompt_number": 77
    },
    {
     "cell_type": "markdown",
     "metadata": {},
     "source": [
      "The parser itself operates by pattern-matching on the stream of tokens. As usual with recursive descent parsers, we use several intermediate parsing functions to reflect the precedence and associativity of operators. Pattern-matching over streams is more powerful than on regular data structures, as it allows recursive calls to parsing functions inside the patterns, for matching sub-components of the input stream. See the Camlp4 documentation for more details."
     ]
    },
    {
     "cell_type": "code",
     "collapsed": false,
     "input": [
      "let rec parse_expr = parser\n",
      "      [< e1 = parse_mult; e = parse_more_adds e1 >] -> e\n",
      "  and parse_more_adds e1 = parser\n",
      "      [< 'Kwd \"+\"; e2 = parse_mult; e = parse_more_adds (Sum(e1, e2)) >] -> e\n",
      "    | [< 'Kwd \"-\"; e2 = parse_mult; e = parse_more_adds (Diff(e1, e2)) >] -> e\n",
      "    | [< >] -> e1\n",
      "  and parse_mult = parser\n",
      "      [< e1 = parse_simple; e = parse_more_mults e1 >] -> e\n",
      "  and parse_more_mults e1 = parser\n",
      "      [< 'Kwd \"*\"; e2 = parse_simple; e = parse_more_mults (Prod(e1, e2)) >] -> e\n",
      "    | [< 'Kwd \"/\"; e2 = parse_simple; e = parse_more_mults (Quot(e1, e2)) >] -> e\n",
      "    | [< >] -> e1\n",
      "  and parse_simple = parser\n",
      "      [< 'Ident s >] -> Var s\n",
      "    | [< 'Int i >] -> Const(float i)\n",
      "    | [< 'Float f >] -> Const f\n",
      "    | [< 'Kwd \"(\"; e = parse_expr; 'Kwd \")\" >] -> e;;"
     ],
     "language": "python",
     "metadata": {},
     "outputs": [
      {
       "output_type": "stream",
       "stream": "stdout",
       "text": [
        "val parse_expr : Genlex.token Stream.t -> expression = <fun>\n",
        "val parse_more_adds : expression -> Genlex.token Stream.t -> expression =\n",
        "  <fun>\n",
        "val parse_mult : Genlex.token Stream.t -> expression = <fun>\n",
        "val parse_more_mults : expression -> Genlex.token Stream.t -> expression =\n",
        "  <fun>\n",
        "val parse_simple : Genlex.token Stream.t -> expression = <fun>\n"
       ]
      }
     ],
     "prompt_number": 78
    },
    {
     "cell_type": "code",
     "collapsed": false,
     "input": [
      "let parse_expression = parser [< e = parse_expr; _ = Stream.empty >] -> e;;"
     ],
     "language": "python",
     "metadata": {},
     "outputs": [
      {
       "output_type": "stream",
       "stream": "stdout",
       "text": [
        "val parse_expression : Genlex.token Stream.t -> expression = <fun>\n"
       ]
      }
     ],
     "prompt_number": 79
    },
    {
     "cell_type": "markdown",
     "metadata": {},
     "source": [
      "Composing the lexer and parser, we finally obtain a function to read an expression from a character string:"
     ]
    },
    {
     "cell_type": "code",
     "collapsed": false,
     "input": [
      "let read_expression s = parse_expression (lexer (Stream.of_string s));;"
     ],
     "language": "python",
     "metadata": {},
     "outputs": [
      {
       "output_type": "stream",
       "stream": "stdout",
       "text": [
        "val read_expression : string -> expression = <fun>\n"
       ]
      }
     ],
     "prompt_number": 80
    },
    {
     "cell_type": "code",
     "collapsed": false,
     "input": [
      "read_expression \"2*(x+y)\";;"
     ],
     "language": "python",
     "metadata": {},
     "outputs": [
      {
       "output_type": "stream",
       "stream": "stdout",
       "text": [
        "- : expression = Prod (Const 2., Sum (Var \"x\", Var \"y\"))\n"
       ]
      }
     ],
     "prompt_number": 81
    },
    {
     "cell_type": "markdown",
     "metadata": {},
     "source": [
      "A small puzzle: why do we get different results in the following two examples?"
     ]
    },
    {
     "cell_type": "code",
     "collapsed": false,
     "input": [
      "read_expression \"x - 1\";;"
     ],
     "language": "python",
     "metadata": {},
     "outputs": [
      {
       "output_type": "stream",
       "stream": "stdout",
       "text": [
        "- : expression = Diff (Var \"x\", Const 1.)\n"
       ]
      }
     ],
     "prompt_number": 82
    },
    {
     "cell_type": "code",
     "collapsed": false,
     "input": [
      "read_expression \"x-1\";;"
     ],
     "language": "python",
     "metadata": {},
     "outputs": [
      {
       "output_type": "stream",
       "stream": "stderr",
       "text": [
        "Exception: Stream.Error \"\".\n"
       ]
      }
     ],
     "prompt_number": 83
    },
    {
     "cell_type": "markdown",
     "metadata": {},
     "source": [
      "Answer: the generic lexer provided by Genlex recognizes negative integer literals as one integer token. Hence, x-1 is read as the token Ident \"x\" followed by the token Int(-1); this sequence does not match any of the parser rules. On the other hand, the second space in x - 1 causes the lexer to return the three expected tokens: Ident \"x\", then Kwd \"-\", then Int(1)."
     ]
    },
    {
     "cell_type": "heading",
     "level": 2,
     "metadata": {},
     "source": [
      "1.9 Standalone OCaml programs"
     ]
    },
    {
     "cell_type": "markdown",
     "metadata": {},
     "source": [
      "All examples given so far were executed under the interactive system. OCaml code can also be compiled separately and executed non-interactively using the batch compilers ```ocamlc``` and ```ocamlopt```. The source code must be put in a file with extension .ml. It consists of a sequence of phrases, which will be evaluated at runtime in their order of appearance in the source file. Unlike in interactive mode, types and values are not printed automatically; the program must call printing functions explicitly to produce some output. Here is a sample standalone program to print Fibonacci numbers:\n",
      "\n",
      "```ocaml\n",
      "(* File fib.ml *)\n",
      "let rec fib n =\n",
      "  if n < 2 then 1 else fib (n-1) + fib (n-2);;\n",
      "let main () =\n",
      "  let arg = int_of_string Sys.argv.(1) in\n",
      "  print_int (fib arg);\n",
      "  print_newline ();\n",
      "  exit 0;;\n",
      "main ();;\n",
      "```\n",
      "\n",
      "```bash\n",
      "$ ocamlc -o fib fib.ml\n",
      "$ ./fib 10\n",
      "89\n",
      "$ ./fib 20\n",
      "10946\n",
      "```\n",
      "\n",
      "More complex standalone OCaml programs are typically composed of multiple source files, and can link with precompiled libraries. Chapters 8 and 11 explain how to use the batch compilers ```ocamlc``` and ```ocamlopt```. Recompilation of multi-file OCaml projects can be automated using the ```ocamlbuild``` compilation manager, documented in chapter 18."
     ]
    }
   ],
   "metadata": {}
  }
 ]
}